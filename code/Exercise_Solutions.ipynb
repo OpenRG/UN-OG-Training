{
 "cells": [
  {
   "cell_type": "markdown",
   "metadata": {},
   "source": [
    "# Solutions to the OG-UN-Training Exercises\n",
    "### by Jason DeBacker and Richard W. Evans, 2023"
   ]
  },
  {
   "cell_type": "code",
   "execution_count": 12,
   "metadata": {},
   "outputs": [],
   "source": [
    "# imports\n",
    "import numpy as np\n",
    "import pandas as pd\n",
    "import scipy\n",
    "import matplotlib.pyplot as plt\n",
    "import sys\n",
    "import os\n",
    "import ogcore\n",
    "import ogusa\n",
    "import json\n",
    "import urllib"
   ]
  },
  {
   "cell_type": "markdown",
   "metadata": {},
   "source": [
    "## Standard Library Chapter Exercises\n",
    "\n",
    "1. Use the `sys` module to create a relative path from a Python module, print that path."
   ]
  },
  {
   "cell_type": "code",
   "execution_count": null,
   "metadata": {},
   "outputs": [],
   "source": [
    "# 1. Determine which of Python's built in objects (string, dict, list, tuple, set) are mutable and which are immutable.\n",
    "a_string = \"Alliteration\"\n",
    "try:\n",
    "    a_string[0] = \"B\"\n",
    "    print(\"Strings are mutable\")\n",
    "except TypeError:\n",
    "    print(\"Strings are immutable\")\n",
    "a_dict = {\"a\": 1, \"b\": 2, \"c\": 3}\n",
    "try:\n",
    "    a_dict[\"a\"] = 99\n",
    "    # print(\"The new dictionary = \", a_dict)\n",
    "    print(\"Dictionaries are mutable\")\n",
    "except TypeError:\n",
    "    print(\"Dictionaries are immutable\")\n",
    "a_list = [1, 2, 3, 4, 5]\n",
    "try:\n",
    "    a_list[0] = 99\n",
    "    # print(\"The new list =  \", a_list)\n",
    "    print(\"Lists are mutable\")\n",
    "except TypeError:\n",
    "    print(\"Lists are immutable\")\n",
    "a_set = {1, 2, 3, 4, 5}\n",
    "try:\n",
    "    a_set[0] = 99\n",
    "    # print(\"The new set = \", a_set)\n",
    "    print(\"Sets are mutable\")\n",
    "except TypeError:\n",
    "    print(\"Sets are immutable\")\n",
    "a_tuple = (1, 2, 3, 4, 5)\n",
    "try:\n",
    "    a_tuple[0] = 99\n",
    "    # print(\"The new tuple = \", a_tuple)\n",
    "    print(\"Tuples are mutable\")\n",
    "except TypeError:\n",
    "    print(\"Tuples are immutable\")\n",
    "an_int = 1\n",
    "try:\n",
    "    an_int = 99\n",
    "    # print(\"The new int = \", an_int)\n",
    "    print(\"Integers are mutable\")\n",
    "except TypeError:\n",
    "    print(\"Integers are immutable\")\n",
    "\n"
   ]
  },
  {
   "cell_type": "code",
   "execution_count": null,
   "metadata": {},
   "outputs": [],
   "source": [
    "# 2. Create a python module that prints something (e.g. `Hello World!`) and run it from the command line using `python module_name.py`.\n",
    "# 3. Create a python notebook and run it in VS Code\n",
    "\n",
    "# Can't replicate these in a notebook\n"
   ]
  },
  {
   "cell_type": "code",
   "execution_count": null,
   "metadata": {},
   "outputs": [],
   "source": [
    "# 4. Write a function that finds the Fibonacci sequence up to an integer `N` > 0 in the notebook.\n",
    "# Now call this function for `N = 10` and `N=100`.\n",
    "def fibo(N):\n",
    "    assert N > 0  # raise error if N <= 0\n",
    "    seq = [0]\n",
    "    while seq[-1] <  N:\n",
    "        if len(seq) == 1:\n",
    "            seq.append(1)\n",
    "        else:\n",
    "            seq.append(seq[-1] + seq[-2])\n",
    "    return seq[:-1]\n",
    "\n",
    "print(\"Fibonacci series up to 10: \", fibo(10))\n",
    "print(\"Fibonacci series up to 100: \", fibo(100))"
   ]
  },
  {
   "cell_type": "code",
   "execution_count": null,
   "metadata": {},
   "outputs": [],
   "source": [
    "# 5. Use the `sys` module to create a relative path from a Python module, print that path.\n",
    "print(\"The relative path is: \", sys.path[0])"
   ]
  },
  {
   "cell_type": "markdown",
   "metadata": {},
   "source": [
    "## Object Oriented Programming Chapter Exercises"
   ]
  },
  {
   "cell_type": "code",
   "execution_count": null,
   "metadata": {},
   "outputs": [],
   "source": [
    "# 1. Define a class called `Specifications` with an attribute that is the rate of time preference, $\\beta$.\n",
    "# Create instances of this class called `p1` for $\\beta=0.96$ and `p2` $\\beta=0.99$.\n",
    "\n",
    "class Specifications:\n",
    "    def __init__(self, beta):\n",
    "        self.beta = beta\n",
    "\n",
    "p = Specifications(0.96)\n",
    "q = Specifications(0.99)\n",
    "print(\"Two instances of the Specifications class with different parameterizations of beta: \", p.beta, q.beta)"
   ]
  },
  {
   "cell_type": "code",
   "execution_count": null,
   "metadata": {},
   "outputs": [],
   "source": [
    "# 2. Update the `Specifications` class so that allows one to specify the\n",
    "# value of $\\beta$ upon initialization of the class and checks that $\\beta$ is between 0 and 1.\n",
    "\n",
    "class Specifications:\n",
    "    def __init__(self, beta):\n",
    "        assert 0 < beta < 1\n",
    "        self.beta = beta\n",
    "p = Specifications(0.96)\n",
    "q = Specifications(0.99)\n",
    "print(\"Two instances of the Specifications class with different parameterizations of beta: \", p.beta, q.beta)\n",
    "# Try a beta out of range:\n",
    "try:\n",
    "    p3 = Specifications(1.01)\n",
    "except AssertionError:\n",
    "    print(\"Beta must be between 0 and 1\")"
   ]
  },
  {
   "cell_type": "code",
   "execution_count": null,
   "metadata": {},
   "outputs": [],
   "source": [
    "# 3. Modify the `Specifications` class so that it has a method that prints the value of $\\beta$.\n",
    "\n",
    "class Specifications:\n",
    "    def __init__(self, beta):\n",
    "        assert 0 < beta < 1\n",
    "        self.beta = beta\n",
    "\n",
    "    def print_beta(self):\n",
    "        print(\"Beta = \", self.beta)\n",
    "\n",
    "# Test this:\n",
    "p = Specifications(0.96)\n",
    "p.print_beta()\n"
   ]
  },
  {
   "cell_type": "code",
   "execution_count": null,
   "metadata": {},
   "outputs": [],
   "source": [
    "# 4. Change the input of $\\beta$ to the class so that it is input at an annual rate.\n",
    "# Allow another attribute of the class called `S` that is the number of periods in\n",
    "# an economic agent's life.  Include a method in the `Specifications` class that\n",
    "# adjusts the value  the value of $\\beta$ to represent the discount rate applied\n",
    "# per model period, which will be equivalent to `S/80` years.\n",
    "\n",
    "class Specifications:\n",
    "    def __init__(self, beta_annual, S):\n",
    "        assert 0 < beta_annual < 1\n",
    "        self.beta_annual = beta_annual\n",
    "        self.S = S\n",
    "\n",
    "    def print_beta(self):\n",
    "        print(\"Beta = \", self.beta_annual)\n",
    "\n",
    "    def beta_adjust(self):\n",
    "        self.beta = self.beta_annual ** (80 / self.S)\n",
    "\n",
    "# Test this\n",
    "p = Specifications(0.96, 80)\n",
    "p.beta_adjust()\n",
    "print(\"With\" , p.S, \"periods, Beta annual = \", p.beta_annual, \" Beta per period = \", p.beta)\n",
    "p2 = Specifications(0.96, 40)\n",
    "p2.beta_adjust()\n",
    "print(\"With\" , p2.S, \"periods, Beta annual = \", p2.beta_annual, \" Beta per period = \", p2.beta)\n",
    "p3 = Specifications(0.96, 10)\n",
    "p3.beta_adjust()\n",
    "print(\"With\" , p3.S, \"periods, Beta annual = \", p3.beta_annual, \" Beta per period = \", p3.beta)"
   ]
  },
  {
   "cell_type": "code",
   "execution_count": null,
   "metadata": {},
   "outputs": [],
   "source": [
    "# 5. Add a method to the `Specifications` class that allows one to update the\n",
    "# values of the class attributes `S` and `beta_annual` by providing a\n",
    "# dictionary of the form `{\"S\": 40, \"beta_annual\": 0.8}`.\n",
    "# Ensure that when the instance is updated, the new `beta` attribute is\n",
    "# consistent with the new `S` and `beta_annual`.\n",
    "\n",
    "class Specifications:\n",
    "    def __init__(self, beta_annual, S):\n",
    "        assert 0 < beta_annual < 1\n",
    "        self.beta_annual = beta_annual\n",
    "        self.S = S\n",
    "\n",
    "    def print_beta(self):\n",
    "        print(\"Beta = \", self.beta_annual)\n",
    "\n",
    "    def beta_adjust(self):\n",
    "        self.beta = self.beta_annual ** (80 / self.S)\n",
    "\n",
    "    def update(self, new_dict):\n",
    "        for key, value in new_dict.items():\n",
    "            setattr(self, key, value)\n",
    "        self.beta_adjust()\n",
    "\n",
    "# Test this\n",
    "p = Specifications(0.96, 80)\n",
    "p.beta_adjust()\n",
    "print(\"With\" , p.S, \"periods, Beta annual = \", p.beta_annual, \" Beta per period = \", p.beta)\n",
    "p.update({\"S\": 40, \"beta_annual\": 0.8})\n",
    "print(\"With\" , p.S, \"periods, Beta annual = \", p.beta_annual, \" Beta per period = \", p.beta)"
   ]
  },
  {
   "cell_type": "markdown",
   "metadata": {},
   "source": [
    "## Numpy Chapter Excercies   \n"
   ]
  },
  {
   "cell_type": "code",
   "execution_count": null,
   "metadata": {},
   "outputs": [],
   "source": [
    "# 1. Create a matrix b\n",
    "b = np.array([[1.1, 2.2, 3.0, 2.0, 1.0], [3.3, 4.4, 5.0, 3.7, 2.0]])\n",
    "print(\"b = \", b)\n",
    "print(\"b.shape = \", b.shape)\n",
    "# Use the `shape` method of Numpy arrays to print the shape of this matrix.\n",
    "# Use array slicing to print the first row of `b`, which represents the\n",
    "# lifecycle savings decisions of the first agent (i.e., the amount they\n",
    "# choose to save in each of their 5 periods of life).  Use array slicing\n",
    "# to print the second column of `b`, which is the saves of both agents\n",
    "# when they are in their second period of life.  Finally, use array\n",
    "# slicing to print the first two rows and the last three columns of `b`\n",
    "# (i.e., the savings of both agents from middle age onwards).\n",
    "print(\"First row of b = \", b[0, :])\n",
    "print(\"Second column of b = \", b[:, 1])\n",
    "print(\"First two rows and last three columns of b = \", b[0:2, 2:5])"
   ]
  },
  {
   "cell_type": "code",
   "execution_count": null,
   "metadata": {},
   "outputs": [],
   "source": [
    "# 2. Define `Omega` and compute the dot product of b and the transpose of Omega\n",
    "Omega = np.array([[0.05, 0.05, 0.08, 0.06, 0.2], [0.12, 0.16, 0.03, 0.2, 0.05]])\n",
    "B = np.dot(b, Omega.T)\n",
    "print(\"B = \", B)\n",
    "print(\"The diagonal elements of B have some meaning.\\n \" +\n",
    "      \"The top left is the total savings of all type 1 agents (across cohorts).\\n \" +\n",
    "      \"The bottom right is the total savings of all type 2 agents (across cohorts).\\n \" +\n",
    "      \"The off-diagonal elements of B have no meaning since these are the \\n \" +\n",
    "      \"sum of one types savings with another types weights.\")"
   ]
  },
  {
   "cell_type": "code",
   "execution_count": null,
   "metadata": {},
   "outputs": [],
   "source": [
    "# 3. Multiply the matrix `b` by the matrix `Omega` element-wise (Hadamard product).  Use the `np.array.sum()` method on the resulting matrix to find the total savings of each cohort.\n",
    "C = b * Omega\n",
    "print(\"Savings by cohort = \", C.sum(axis=0))"
   ]
  },
  {
   "cell_type": "code",
   "execution_count": null,
   "metadata": {},
   "outputs": [],
   "source": [
    "# 3. In one line, create a matrix of zeros that is the same size as `b`.\n",
    "b_zeros = np.zeros_like(b)\n",
    "print(\"Matrix of zeros like b = \", b_zeros)"
   ]
  },
  {
   "cell_type": "code",
   "execution_count": null,
   "metadata": {},
   "outputs": [],
   "source": [
    "# 4. Use `np.where` to return the elements of `b` that are greater than 2.0 and zero elsewhere.\n",
    "b_gt2 = np.where(b > 2.0, b, b_zeros)\n",
    "print(\"Indices of elements of b that are greater than 2.0 = \", b_gt2)\n",
    "print(b_gt2.shape)"
   ]
  },
  {
   "cell_type": "markdown",
   "metadata": {},
   "source": []
  },
  {
   "cell_type": "code",
   "execution_count": null,
   "metadata": {},
   "outputs": [],
   "source": [
    "# 5. Now suppose a 3rd type of agent.\n",
    "# This agent has savings $b_3 = \\[4.1, 5.1, 7.1, 4.5, 0.9]$.\n",
    "# Use `np.vstack` to stack `b` on top of `b_3` to create a new matrix `b_new`.\n",
    "b_3 = np.array([4.1, 5.1, 7.1, 4.5, 0.9])\n",
    "b_new = np.vstack((b, b_3))\n",
    "print(\"New b matrix with 3 types of agents = \", b_new)"
   ]
  },
  {
   "cell_type": "markdown",
   "metadata": {},
   "source": [
    "## Pandas Chapter Exercises"
   ]
  },
  {
   "cell_type": "code",
   "execution_count": null,
   "metadata": {},
   "outputs": [],
   "source": [
    "# 1. Creat a dataframe from a dictionary\n",
    "gdppc_dict = {\n",
    "    \"Year\": [1990, 2000, 2010, 2018],\n",
    "    \"IND\": [2087, 2753, 4526, 6806],\n",
    "    \"MYS\": [8179, 13475, 18574, 24842],\n",
    "    \"USA\": [36982, 45886, 49267, 55335],\n",
    "}\n",
    "df = pd.DataFrame(gdppc_dict)\n",
    "print(df)"
   ]
  },
  {
   "cell_type": "code",
   "execution_count": null,
   "metadata": {},
   "outputs": [],
   "source": [
    "# 2. Inspect this data frame.  Print `df.head(3)`.  Print `df.tail(3)`.\n",
    "# Get a list of column names with the `keys` method.\n",
    "#Finally, use the  `describe` method to print descriptive statistics.\n",
    "print(\"DataFrame head = \", df.head(3))\n",
    "print(\"DataFrame tail = \", df.tail(3))\n",
    "print(\"DataFrame column names = \", df.keys())\n",
    "print(\"DataFrame descriptive statistics = \", df.describe())"
   ]
  },
  {
   "cell_type": "code",
   "execution_count": null,
   "metadata": {},
   "outputs": [],
   "source": [
    "# 3. Pandas DataFrame use an index to keep track of rows.\n",
    "# Not the default index in `df` are integers for each row.\n",
    "# Let's change the index so the year is the index value. Print the updated DataFrame.\n",
    "df = df.set_index(\"Year\")\n",
    "print(\"DataFrame with year as index = \", df)"
   ]
  },
  {
   "cell_type": "code",
   "execution_count": null,
   "metadata": {},
   "outputs": [],
   "source": [
    "# 4. Let's reshape this into a long panel format with a `MultiIndex` for the columns.\n",
    "# The first level of the `MultiIndex` should be the year and the second level should be the country.\n",
    "# The values should be the GDP per capita.  To do this, use the pivottable. Print the DataFrame.\n",
    "df = pd.DataFrame(df.stack())\n",
    "# name the country index\n",
    "df = df.rename_axis(index=(\"Year\", \"Country\"))\n",
    "df.rename(columns={df.columns[0]:\"GDP per capita\"}, inplace=True)\n",
    "df"
   ]
  },
  {
   "cell_type": "code",
   "execution_count": null,
   "metadata": {},
   "outputs": [],
   "source": [
    "# 5. Create a new variable that is the GDP growth rate from the prior period measure.\n",
    "# Using `groupby` to find mean GDP growth rate for each country ove the sample.\n",
    "df[\"GDP pc Growth\"] = df[\"GDP per capita\"].groupby(\"Country\").pct_change()\n",
    "print(\"DataFrame with GDP growth = \", df)"
   ]
  },
  {
   "cell_type": "code",
   "execution_count": null,
   "metadata": {},
   "outputs": [],
   "source": [
    "# 6. Print a DataFrame as a table (e.g. to tex or json or md)\n",
    "print(df.reset_index().to_markdown(index=False))"
   ]
  },
  {
   "cell_type": "code",
   "execution_count": null,
   "metadata": {},
   "outputs": [],
   "source": [
    "# 7. Read in a csv file as a DataFrame.\n",
    "url = \"https://raw.githubusercontent.com/EAPD-DRB/OG-ZAF/main/ogzaf/data/demographic/un_zaf_pop.csv\"\n",
    "df = pd.read_csv(url, sep=\"|\",  header=1)\n",
    "print(df.head(n=5))"
   ]
  },
  {
   "cell_type": "code",
   "execution_count": null,
   "metadata": {},
   "outputs": [],
   "source": [
    "# 8. Keep only the rows and columns that you need.\n",
    "zaf_pop = df.loc[(df.TimeLabel == 2021) & (df.SexId == 3), [\"AgeStart\", \"Value\"]]\n",
    "print(zaf_pop.head(n=5))"
   ]
  },
  {
   "cell_type": "code",
   "execution_count": null,
   "metadata": {},
   "outputs": [],
   "source": [
    "# 9. Rename column and create a density variable\n",
    "zaf_pop.rename(columns={\"Value\": \"Count\"}, inplace=True)\n",
    "zaf_pop[\"Density\"] = zaf_pop.Count / zaf_pop.Count.sum()\n",
    "print(zaf_pop.head(n=5))\n"
   ]
  },
  {
   "cell_type": "code",
   "execution_count": null,
   "metadata": {},
   "outputs": [],
   "source": [
    "# 10. Use the `plot` method to plot the population density across age for South Africa.\n",
    "zaf_pop.plot(x=\"AgeStart\", y=\"Density\", title=\"South Africa Population Density by Age\", xlabel=\"Age\", ylabel=\"Density\")"
   ]
  },
  {
   "cell_type": "code",
   "execution_count": null,
   "metadata": {},
   "outputs": [],
   "source": [
    "# 11. Create a data from that has the population density of women and then merge that to `zaf_pop`. Plot the distributions across age overall and for women\n",
    "df = pd.read_csv(url, sep=\"|\",  header=1)\n",
    "zaf_female_pop = df.loc[(df.TimeLabel == 2021) & (df.SexId == 2), [\"AgeStart\", \"Value\"]]\n",
    "zaf_female_pop.rename(columns={\"Value\": \"Female Count\"}, inplace=True)\n",
    "zaf_female_pop[\"Female Density\"] = zaf_female_pop[\"Female Count\"] / zaf_female_pop[\"Female Count\"].sum()\n",
    "zaf_pop = zaf_pop.merge(zaf_female_pop, on=\"AgeStart\", how=\"inner\")\n",
    "zaf_pop.plot(x=\"AgeStart\", y=[\"Density\", \"Female Density\"], title=\"South Africa Population Density by Age and Gender\", xlabel=\"Age\", ylabel=\"Density\")"
   ]
  },
  {
   "cell_type": "code",
   "execution_count": null,
   "metadata": {},
   "outputs": [],
   "source": [
    "# 12. Save your final DataFrame to disk as a csv file.\n",
    "zaf_pop.to_csv(\"zaf_pop.csv\", index=False)"
   ]
  },
  {
   "cell_type": "markdown",
   "metadata": {},
   "source": [
    "# Scipy Chapter Exercises"
   ]
  },
  {
   "cell_type": "code",
   "execution_count": null,
   "metadata": {},
   "outputs": [],
   "source": [
    "# Scipy constraints optimization problem\n",
    "# Trying to plot this in 2D, not very successfully\n",
    "delta = 0.005\n",
    "x = np.arange(-2.0, 2.0, delta)\n",
    "y = np.arange(-2.0, 2.0, delta)\n",
    "X, Y = np.meshgrid(x, y)\n",
    "Z = X**2 * Y\n",
    "fig, ax = plt.subplots()\n",
    "CS = ax.contour(X, Y, Z)\n",
    "ax.clabel(CS, inline=True, fontsize=10)\n",
    "# circle = lambda x: np.sqrt(1 - x**2)\n",
    "# plt.plot(x, circle(x), label=\"Constraint\")\n",
    "ax.plot(np.cos(x), np.sin(x), linewidth=1)\n",
    "plt.show()"
   ]
  },
  {
   "cell_type": "code",
   "execution_count": null,
   "metadata": {},
   "outputs": [],
   "source": [
    "\n",
    "circle = lambda x: np.sqrt(1 - x**2)\n",
    "def z_func(x):\n",
    "    return -x[0]**2 * x[1]\n",
    "min_val = scipy.optimize.minimize(z_func, x0=[0.5, 0.5], bounds=[(-1, 1), (-1, 1)], constraints={\"type\": \"eq\", \"fun\": lambda x: x[0]**2 + x[1]**2 - 1})\n",
    "print(\"Maximum value is: \", min_val[\"x\"])"
   ]
  },
  {
   "cell_type": "code",
   "execution_count": null,
   "metadata": {},
   "outputs": [],
   "source": [
    "y = np.sqrt(1/3)\n",
    "x = np.sqrt(2) * y\n",
    "print(\"Maximum value found by hand is: \", [x, y])"
   ]
  },
  {
   "cell_type": "code",
   "execution_count": null,
   "metadata": {},
   "outputs": [],
   "source": [
    "# Scipy interpolation problem\n",
    "x_full = np.linspace(-10, 10, 100)\n",
    "y_full = np.sin(x_full)\n",
    "plt.plot(x_full, y_full)\n",
    "plt.show()"
   ]
  },
  {
   "cell_type": "code",
   "execution_count": null,
   "metadata": {},
   "outputs": [],
   "source": [
    "random_index = np.random.choice(np.arange(100), size=40, replace=False)\n",
    "x = x_full[random_index]\n",
    "y = y_full[random_index]\n",
    "plt.scatter(x, y)"
   ]
  },
  {
   "cell_type": "code",
   "execution_count": null,
   "metadata": {},
   "outputs": [],
   "source": [
    "# interpolate function y = f(x)\n",
    "y_hat = scipy.interpolate.interp1d(x, y, kind=\"cubic\", fill_value=\"extrapolate\")\n",
    "plt.plot(x_full, y_hat(x_full))"
   ]
  },
  {
   "cell_type": "markdown",
   "metadata": {},
   "source": [
    "# Simulating OG-Core Chapter Exercises"
   ]
  },
  {
   "cell_type": "code",
   "execution_count": null,
   "metadata": {},
   "outputs": [],
   "source": [
    "# SS simulation of change in corporate income tax:\n",
    "# set paths to save output to\n",
    "CUR_PATH = os.path.abspath(\"\")#os.path.abspath(os.path.dirname(__file__))\n",
    "baseline_dir = os.path.join(CUR_PATH, \"Exercise_Simulations\", \"OUTPUT_BASELINE\")\n",
    "reform_dir = os.path.join(CUR_PATH, \"Exercise_Simulations\", \"OUTPUT_REFORM\")\n",
    "\n",
    "# solve for baseline SS\n",
    "p = ogcore.parameters.Specifications(\n",
    "    output_base=baseline_dir,\n",
    "    baseline=True,\n",
    ")\n",
    "ogcore.execute.runner(p, time_path=False)\n",
    "\n",
    "p_reform = ogcore.parameters.Specifications(\n",
    "    output_base = reform_dir,\n",
    "    baseline_dir=baseline_dir,\n",
    "    baseline = False,\n",
    ")\n",
    "# Solve for reform SS after changing the corporate income tax rate to 15%\n",
    "p_reform.update_specifications({'cit_rate': [[0.15]]})\n",
    "ogcore.execute.runner(p_reform, time_path=False)"
   ]
  },
  {
   "cell_type": "code",
   "execution_count": null,
   "metadata": {},
   "outputs": [],
   "source": [
    "# Compare output by looking at a table of macro aggregates\n",
    "base_ss =ogcore.utils.safe_read_pickle(os.path.join(baseline_dir, \"SS\", \"SS_vars.pkl\"))\n",
    "reform_ss = ogcore.utils.safe_read_pickle(os.path.join(reform_dir, \"SS\", \"SS_vars.pkl\"))\n",
    "macro_table = ogcore.output_tables.macro_table_SS(base_ss, reform_ss)\n",
    "print(macro_table.to_markdown())"
   ]
  },
  {
   "cell_type": "markdown",
   "metadata": {},
   "source": [
    "# OG-Core Output Exercises"
   ]
  },
  {
   "cell_type": "code",
   "execution_count": null,
   "metadata": {},
   "outputs": [],
   "source": [
    "# Exercise 17.1: solve for SS with different betas, plot SS profiles\n",
    "# set paths to save output to\n",
    "CUR_PATH = os.path.abspath(\"\")#os.path.abspath(os.path.dirname(__file__))\n",
    "baseline_dir = os.path.join(CUR_PATH, \"Exercise_Simulations\", \"OUTPUT_BASELINE\")\n",
    "reform_dir = os.path.join(CUR_PATH, \"Exercise_Simulations\", \"OUTPUT_REFORM\")\n",
    "\n",
    "# solve for baseline SS\n",
    "p = ogcore.parameters.Specifications(\n",
    "    output_base=baseline_dir,\n",
    "    baseline=True,\n",
    ")\n",
    "ogcore.execute.runner(p, time_path=False)\n",
    "\n",
    "p_reform = ogcore.parameters.Specifications(\n",
    "    output_base = reform_dir,\n",
    "    baseline_dir=baseline_dir,\n",
    "    baseline = False,\n",
    ")\n",
    "# Solve for reform SS after changing the corporate income tax rate to 15%\n",
    "p_reform.update_specifications({'beta_annual': [0.9, 0.9, 0.9, 0.9, 0.9, 0.9, 0.9]})\n",
    "ogcore.execute.runner(p_reform, time_path=False)"
   ]
  },
  {
   "cell_type": "code",
   "execution_count": null,
   "metadata": {},
   "outputs": [],
   "source": [
    "base_ss =ogcore.utils.safe_read_pickle(os.path.join(baseline_dir, \"SS\", \"SS_vars.pkl\"))\n",
    "reform_ss = ogcore.utils.safe_read_pickle(os.path.join(reform_dir, \"SS\", \"SS_vars.pkl\"))\n",
    "base_params = ogcore.utils.safe_read_pickle(os.path.join(baseline_dir, \"model_params.pkl\"))\n",
    "reform_params = ogcore.utils.safe_read_pickle(os.path.join(reform_dir, \"model_params.pkl\"))\n",
    "ogcore.output_plots.ss_profiles(base_ss, base_params, reform_ss, reform_params)"
   ]
  },
  {
   "cell_type": "code",
   "execution_count": null,
   "metadata": {},
   "outputs": [],
   "source": [
    "# Exercise 17.2\n",
    "from io import BytesIO\n",
    "import pickle\n",
    "import requests\n",
    "tpi_path = \"https://github.com/PSLmodels/OG-Core/blob/master/tests/test_io_data/TPI_vars_baseline.pkl\"\n",
    "ss_path = \"https://github.com/PSLmodels/OG-Core/blob/master/tests/test_io_data/SS_vars_baseline.pkl\"\n",
    "model_params_path = \"https://github.com/PSLmodels/OG-Core/blob/master/tests/test_io_data/model_params_baseline.pkl\"\n",
    "r = requests.get(tpi_path)\n",
    "tpi_output = pickle.loads(BytesIO(r.content).getvalue())\n",
    "r = requests.get(ss_path)\n",
    "ss_output = pickle.loads(BytesIO(r.content).getvalue())\n",
    "r = requests.get(model_params_path)\n",
    "model_params = pickle.loads(BytesIO(r.content).getvalue())\n",
    "\n",
    "GDP_stationary_model_units = tpi_output[\"Y\"]\n",
    "T_vec = np.arange(0, tpi_output[\"Y\"].shape[0])\n",
    "GDP_non_stationary_model_units = GDP_stationary_model_units * np.exp(model_params[\"g_y\"] * T_vec) * np.cumprod(1 + model_params[\"g_n\"])\n",
    "GDP_non_stationary_local_currency = GDP_non_stationary_model_units * ss_output[\"factor_ss\"]\n",
    "# plot GDP in local currency\n",
    "plt.plot(GDP_non_stationary_local_currency)"
   ]
  },
  {
   "cell_type": "code",
   "execution_count": null,
   "metadata": {},
   "outputs": [],
   "source": [
    "# 17.3: Create macro tables\n",
    "# First, read in model output\n",
    "base_tpi_path = \"https://github.com/PSLmodels/OG-Core/blob/master/tests/test_io_data/TPI_vars_baseline.pkl\"\n",
    "base_params_path = \"https://github.com/PSLmodels/OG-Core/blob/master/tests/test_io_data/model_params_baseline.pkl\"\n",
    "reform_tpi_path = \"https://github.com/PSLmodels/OG-Core/blob/master/tests/test_io_data/TPI_vars_reform.pkl\"\n",
    "reform_params_path = \"https://github.com/PSLmodels/OG-Core/blob/master/tests/test_io_data/model_params_reform.pkl\"\n",
    "r = requests.get(base_tpi_path)\n",
    "base_tpi = pickle.loads(BytesIO(r.content).getvalue())\n",
    "r = requests.get(base_params_path)\n",
    "base_params = pickle.loads(BytesIO(r.content).getvalue())\n",
    "r = requests.get(reform_tpi_path)\n",
    "reform_tpi = pickle.loads(BytesIO(r.content).getvalue())\n",
    "r = requests.get(reform_params_path)\n",
    "reform_params = pickle.loads(BytesIO(r.content).getvalue())"
   ]
  },
  {
   "cell_type": "code",
   "execution_count": null,
   "metadata": {},
   "outputs": [],
   "source": [
    "# Now make the macro table\n",
    "macro_table = ogcore.output_tables.macro_table_TPI(base_tpi, reform_tpi, base_params, reform_params)\n",
    "print(macro_table.to_markdown())"
   ]
  },
  {
   "cell_type": "code",
   "execution_count": null,
   "metadata": {},
   "outputs": [],
   "source": [
    "# 17.4, Plot aggregates\n",
    "ogcore.output_plots.macro_aggregates(base_tpi, reform_tpi, base_params, reform_params)"
   ]
  },
  {
   "cell_type": "code",
   "execution_count": null,
   "metadata": {},
   "outputs": [],
   "source": [
    "# 17.5, Plot aggregates relative to a baseline forecast\n",
    "GDP_forecast = np.array([\n",
    "    9798433.361, 9787825.404, 10132595.93, 10411531.32,\n",
    "    10830994.35,11121729.09,11541296.74,12054563.71,\n",
    "    12594777.57,13193437.33,13737993.55,13875146.34,\n",
    "    14116809.36,14520719.97,15072347.37,15601870.36,16047299.44,\n",
    "    16348375.08,16326046.51,15911894.12,16319838.19,16572931.77,\n",
    "    16945747.72,17257902.13,17693831.73,18238008.17,18550137.99,\n",
    "    18982853.58,19551667.62,19974213.89,19277860.06,20600684.21,\n",
    "    21333157.94,21745600,22089590,22435530,22795090,23165430,23542450,\n",
    "    23922220,24302080,24680650,25057260,25432210,25805950,26178950,\n",
    "    26551860,26925870,27301970,27680920,28063300,28449620,28840510,\n",
    "    29236180,29636360,30040560,30448430,30860520,31276660,31696400,\n",
    "    32119290,32545110,32973750,33405240,33839410,34276180,34715910,\n",
    "    35159850,35609030,36064460,36527240\n",
    "])\n",
    "ogcore.output_plots.macro_aggregates(\n",
    "    base_tpi, reform_tpi, base_params,\n",
    "    reform_params, plot_type=\"forecast\", forecast_data=GDP_forecast)"
   ]
  },
  {
   "cell_type": "markdown",
   "metadata": {},
   "source": [
    "# Calibration Chapter Exercises"
   ]
  },
  {
   "cell_type": "code",
   "execution_count": null,
   "metadata": {},
   "outputs": [],
   "source": [
    "# 1. Create a utility to get population data from the UN Population Prospects for a country of interest to you.\n",
    "# The solution is to replace the `country_id` value of \"710\" with the number that is appropriate for your country (as a string)"
   ]
  },
  {
   "cell_type": "code",
   "execution_count": null,
   "metadata": {},
   "outputs": [],
   "source": [
    "# Exercise 18.2: Plot fertility rates for the country of interest\n",
    "import ogzaf.demographics as demog  # change this to module created in (1)\n",
    "\n",
    "fert_rates = demog.get_fert(100, download=True)\n",
    "plt.plot(np.arange(0, 100), fert_rates)"
   ]
  },
  {
   "cell_type": "code",
   "execution_count": null,
   "metadata": {},
   "outputs": [],
   "source": [
    "# 18.3. Plot mortality rates for the country of interest\n",
    "mort_rates, inf_mort_rate = demog.get_mort(100, download=True)\n",
    "# graph saved in folder in working directory\n",
    "plt.plot(np.arange(0, 100), mort_rates)"
   ]
  },
  {
   "cell_type": "code",
   "execution_count": null,
   "metadata": {},
   "outputs": [],
   "source": [
    "# 18.4: Return the population objects dictionary and plot the population distribution over several years\n",
    "E = 20\n",
    "S = 80\n",
    "T = 320\n",
    "curr_year = 2023\n",
    "pop_objs = demog.get_pop_objs(E, S, T, curr_year, download=True)\n",
    "# plots\n",
    "pop_dist = pop_objs[\"omega\"]\n",
    "ages = np.linspace(20, 101, 80)\n",
    "years = [0, 20, 100, 319]  # just use indexes here\n",
    "for y in years:\n",
    "    plt.plot(ages, pop_dist[y, :], label=2023 + y)\n",
    "plt.legend()\n",
    "plt.show()"
   ]
  },
  {
   "cell_type": "code",
   "execution_count": null,
   "metadata": {},
   "outputs": [],
   "source": [
    "# 18.5: Plot the population growth rate over time\n",
    "years = np.linspace(1, T+1, T)\n",
    "plt.plot(years, pop_objs[\"g_n\"][:T])\n",
    "\n",
    "# Then some description of the population growth rate rising or falling because fertility rates are high and mortality low (or vice versa)"
   ]
  },
  {
   "cell_type": "code",
   "execution_count": null,
   "metadata": {},
   "outputs": [],
   "source": [
    "# Exercise 18.6: Simulation with alternative demographics\n",
    "# set paths to save output to\n",
    "base_dir = os.path.join(CUR_PATH, \"Exercise_Simulations\", \"OUTPUT_BASELINE\")\n",
    "reform_dir = os.path.join(CUR_PATH, \"Exercise_Simulations\", \"OUTPUT_REFORM\")\n",
    "# baseline parameterization\n",
    "p = Specifications(\n",
    "    baseline=True,\n",
    "    baseline_dir=base_dir,\n",
    "    output_base=base_dir,\n",
    ")\n",
    "ogcore.execute.runner(p, time_path=False)\n",
    "# \"reform\" parameterization\n",
    "p2 = Specifications(\n",
    "        baseline=False,\n",
    "        baseline_dir=base_dir,\n",
    "        output_base=reform_dir,\n",
    "    )\n",
    "pop_objs_dict = demog.get_pop_objs(p2.E, p2.S, p2.T, p2.start_year, download=True)\n",
    "p2.update_specifications(pop_objs_dict)\n",
    "ogcore.execute.runner(p2, time_path=False)"
   ]
  },
  {
   "cell_type": "code",
   "execution_count": null,
   "metadata": {},
   "outputs": [],
   "source": [
    "# now compare output\n",
    "base_ss = ogcore.utils.safe_read_pickle(os.path.join(base_dir, \"SS\", \"SS_vars.pkl\"))\n",
    "reform_ss = ogcore.utils.safe_read_pickle(os.path.join(reform_dir, \"SS\", \"SS_vars.pkl\"))\n",
    "macro_table = ogcore.output_tables.macro_table_SS(base_ss, reform_ss)\n",
    "print(macro_table.to_markdown())"
   ]
  },
  {
   "cell_type": "code",
   "execution_count": null,
   "metadata": {},
   "outputs": [],
   "source": [
    "# Exercise 18.7: Using pandas data reader\n",
    "import pandas_datareader as pdr\n",
    "import datetime\n",
    "start = datetime.datetime(2010, 1, 1)\n",
    "end = datetime.datetime(2021, 1, 1)\n",
    "# FRED code for Real GDP in South Africa is NGDPRSAXDCZAQ\n",
    "gdp = pdr.data.DataReader(\"NGDPRSAXDCZAQ\", \"fred\", start, end)\n",
    "# plot this series\n",
    "plt.plot(gdp)"
   ]
  },
  {
   "cell_type": "code",
   "execution_count": null,
   "metadata": {},
   "outputs": [],
   "source": [
    "# Exercise 18.8: Turn this quarterly data into annual data\n",
    "# First, get the annual average\n",
    "gdp_annual = gdp.resample('Y').mean()\n",
    "# plot this series\n",
    "plt.plot(gdp_annual)"
   ]
  },
  {
   "cell_type": "code",
   "execution_count": null,
   "metadata": {},
   "outputs": [],
   "source": [
    "# Exercise 18.9: Plot the annual growth rate of GDP\n",
    "gdp_growth = gdp_annual.pct_change()\n",
    "gdp_growth = gdp_growth.dropna()\n",
    "plt.plot(gdp_growth)"
   ]
  },
  {
   "cell_type": "code",
   "execution_count": null,
   "metadata": {},
   "outputs": [],
   "source": [
    "# Exercise 18.10: Estimate the autocorrelation of the annual growth rate of GDP\n",
    "import statsmodels.regression.linear_model as lm\n",
    "reg_model = lm.OLS(gdp_growth[1:].values, gdp_growth[:-1].values)\n",
    "reg_results = reg_model.fit()\n",
    "print(reg_results.summary())"
   ]
  },
  {
   "cell_type": "code",
   "execution_count": 6,
   "metadata": {},
   "outputs": [
    {
     "data": {
      "image/png": "[encoded data removed]",
      "text/plain": [
       "<Figure size 640x480 with 1 Axes>"
      ]
     },
     "metadata": {},
     "output_type": "display_data"
    }
   ],
   "source": [
    "# Excercise 18.12: Plot earnings profies from ogusa\n",
    "from ogusa import income\n",
    "p = ogcore.parameters.Specifications()\n",
    "e = income.get_e_interp(p.S, p.omega_SS, p.omega_SS, p.lambdas, plot=False)\n",
    "for j in np.arange(p.J):\n",
    "    plt.plot(e[:, j])\n",
    "plt.show()"
   ]
  },
  {
   "cell_type": "code",
   "execution_count": 20,
   "metadata": {},
   "outputs": [],
   "source": [
    "# Exercise 18.13: Adjust earnings matrix to fit any gini\n",
    "def gen_new_emat(E, S, J, lambdas, age_wgts, gini_to_match=35.7, plot=False):\n",
    "    \"\"\"\n",
    "    This function takes the calibrated lifetime earnings profiles\n",
    "    (abilities, e matrix) from OG-USA and then adjusts the shape of those\n",
    "    profiles to match the Gini coefficient for another economy. The\n",
    "    Gini coefficient to match is given in the argument gini_to_match.\n",
    "    Note that the calibrated OG-USA e matrix is of size (80, 10), where\n",
    "    80 is the number of ages and 10 is the number of ability types.\n",
    "    Users of this function specify their own number of age groups (S)\n",
    "    and ability types (J). The function will map the fitted functions\n",
    "    into these dimensions so long as the percentiles of the ability types\n",
    "    given in lambdas is not more refined at the top end than those in\n",
    "    OG-USA (which identifies up to the top 0.1%).\n",
    "\n",
    "    Args:\n",
    "        E (int): the age agents become economically active\n",
    "        S (int): number of ages to interpolate. This method assumes that\n",
    "            ages are evenly spaced between the beginning of age E\n",
    "            up to E+S, >= 3\n",
    "        J (int): number of ability types to interpolate\n",
    "        lambdas (Numpy array): distribution of population in each\n",
    "            ability group, length J\n",
    "        age_wgts (Numpy array): distribution of population in each age\n",
    "            group, length S\n",
    "        gini_to_match (float): Gini coefficient to match, default is\n",
    "            35.7, the Gini coefficient for India in 2019\n",
    "        plot (bool): if True, creates plots of emat_orig and the new\n",
    "            interpolated emat_new\n",
    "\n",
    "    Returns:\n",
    "        emat_new_scaled (Numpy array): interpolated ability matrix scaled\n",
    "            so that population-weighted average is 1, size SxJ\n",
    "\n",
    "    \"\"\"\n",
    "    assert lambdas.shape[0] == J\n",
    "    assert age_wgts.shape[0] == S\n",
    "    # Load USA e matrix as a baseline\n",
    "    usa_params = ogcore.parameters.Specifications()\n",
    "    usa_params.update_specifications(\n",
    "        json.load(\n",
    "            urllib.request.urlopen(\n",
    "                \"https://raw.githubusercontent.com/PSLmodels/OG-USA/master/ogusa/ogusa_default_parameters.json\"\n",
    "            )\n",
    "        )\n",
    "    )\n",
    "\n",
    "    # Define a function that will find the \"a\" in the equation:\n",
    "    # e_Y = e_USA * exp(a * e_USA)\n",
    "    # such that the e_Y produces a gini coefficient in the model that\n",
    "    # gives the same ratio between the model implied Gini's in the USA\n",
    "    # and the target country and the empirical Gini's in the USA and given\n",
    "    # by gin_to_match for the target country\n",
    "    def f(\n",
    "        a,\n",
    "        emat_orig,\n",
    "        age_wgts,\n",
    "        abil_wgts,\n",
    "        gini_to_match,\n",
    "        gini_usa_data,\n",
    "        gini_usa_model,\n",
    "    ):\n",
    "        gini_target_model = ogcore.utils.Inequality(\n",
    "            emat_orig * np.exp(a * emat_orig),\n",
    "            age_wgts,\n",
    "            abil_wgts,\n",
    "            len(age_wgts),\n",
    "            len(abil_wgts),\n",
    "        ).gini()\n",
    "        error = (gini_to_match / gini_usa_data) - (\n",
    "            gini_target_model / gini_usa_model\n",
    "        )\n",
    "        return error\n",
    "\n",
    "    # Note, USA gini in the World Bank data is 41.5\n",
    "    # See https://data.worldbank.org/indicator/SI.POV.GINI\n",
    "    gini_usa_data = 41.5\n",
    "    # Find the model implied Gini for the USA\n",
    "    gini_usa_model = ogcore.utils.Inequality(\n",
    "        usa_params.e,\n",
    "        usa_params.omega_SS,\n",
    "        usa_params.lambdas,\n",
    "        usa_params.S,\n",
    "        usa_params.J,\n",
    "    ).gini()\n",
    "\n",
    "    x = scipy.optimize.root_scalar(\n",
    "        f,\n",
    "        args=(\n",
    "            usa_params.e,\n",
    "            usa_params.omega_SS,\n",
    "            usa_params.lambdas,\n",
    "            gini_to_match,\n",
    "            gini_usa_data,\n",
    "            gini_usa_model,\n",
    "        ),\n",
    "        method=\"bisect\",\n",
    "        bracket=[-1, 1],\n",
    "        xtol=1e-10,\n",
    "    )\n",
    "    a = x.root\n",
    "    e_new = usa_params.e * np.exp(a * usa_params.e)\n",
    "    emat_new_scaled = (\n",
    "        e_new\n",
    "        / (\n",
    "            e_new\n",
    "            * usa_params.omega_SS.reshape(usa_params.S, 1)\n",
    "            * usa_params.lambdas.reshape(1, usa_params.J)\n",
    "        ).sum()\n",
    "    )\n",
    "\n",
    "    return emat_new_scaled"
   ]
  },
  {
   "cell_type": "code",
   "execution_count": 27,
   "metadata": {},
   "outputs": [
    {
     "data": {
      "image/png": "[encoded data removed]",
      "text/plain": [
       "<Figure size 640x480 with 1 Axes>"
      ]
     },
     "metadata": {},
     "output_type": "display_data"
    }
   ],
   "source": [
    "e_new = gen_new_emat(p.E, p.S, p.J, p.lambdas, p.omega_SS, gini_to_match=85.7, plot=True)\n",
    "for j in np.arange(p.J):\n",
    "    plt.plot(e_new[:, j])\n",
    "plt.show()"
   ]
  },
  {
   "cell_type": "code",
   "execution_count": null,
   "metadata": {},
   "outputs": [],
   "source": []
  }
 ],
 "metadata": {
  "kernelspec": {
   "display_name": "jrc-env",
   "language": "python",
   "name": "python3"
  },
  "language_info": {
   "codemirror_mode": {
    "name": "ipython",
    "version": 3
   },
   "file_extension": ".py",
   "mimetype": "text/x-python",
   "name": "python",
   "nbconvert_exporter": "python",
   "pygments_lexer": "ipython3",
   "version": "3.11.6"
  },
  "orig_nbformat": 4
 },
 "nbformat": 4,
 "nbformat_minor": 2
}
