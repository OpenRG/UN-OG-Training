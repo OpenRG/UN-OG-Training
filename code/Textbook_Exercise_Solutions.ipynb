{
 "cells": [
  {
   "cell_type": "markdown",
   "metadata": {},
   "source": [
    "# Solutions to the OG-UN-Training Exercises\n",
    "### by Jason DeBacker and Richard W. Evans, 2023"
   ]
  },
  {
   "cell_type": "code",
   "execution_count": 37,
   "metadata": {},
   "outputs": [],
   "source": [
    "# imports\n",
    "import numpy as np\n",
    "import pandas as pd\n",
    "import scipy\n",
    "import matplotlib\n",
    "import sys\n"
   ]
  },
  {
   "cell_type": "markdown",
   "metadata": {},
   "source": [
    "## Standard Library Chapter Exercises\n",
    "\n",
    "1. Use the `sys` module to create a relative path from a Python module, print that path."
   ]
  },
  {
   "cell_type": "code",
   "execution_count": 34,
   "metadata": {},
   "outputs": [
    {
     "name": "stdout",
     "output_type": "stream",
     "text": [
      "Strings are immutable\n",
      "Dictionaries are mutable\n",
      "Lists are mutable\n",
      "Sets are immutable\n",
      "Tuples are immutable\n",
      "Integers are mutable\n"
     ]
    }
   ],
   "source": [
    "# 1. Determine which of Python's built in objects (string, dict, list, tuple, set) are mutable and which are immutable.\n",
    "a_string = \"Alliteration\"\n",
    "try:\n",
    "    a_string[0] = \"B\"\n",
    "    print(\"Strings are mutable\")\n",
    "except TypeError:\n",
    "    print(\"Strings are immutable\")\n",
    "a_dict = {\"a\": 1, \"b\": 2, \"c\": 3}\n",
    "try:\n",
    "    a_dict[\"a\"] = 99\n",
    "    # print(\"The new dictionary = \", a_dict)\n",
    "    print(\"Dictionaries are mutable\")\n",
    "except TypeError:\n",
    "    print(\"Dictionaries are immutable\")\n",
    "a_list = [1, 2, 3, 4, 5]\n",
    "try:\n",
    "    a_list[0] = 99\n",
    "    # print(\"The new list =  \", a_list)\n",
    "    print(\"Lists are mutable\")\n",
    "except TypeError:\n",
    "    print(\"Lists are immutable\")\n",
    "a_set = {1, 2, 3, 4, 5}\n",
    "try:\n",
    "    a_set[0] = 99\n",
    "    # print(\"The new set = \", a_set)\n",
    "    print(\"Sets are mutable\")\n",
    "except TypeError:\n",
    "    print(\"Sets are immutable\")\n",
    "a_tuple = (1, 2, 3, 4, 5)\n",
    "try:\n",
    "    a_tuple[0] = 99\n",
    "    # print(\"The new tuple = \", a_tuple)\n",
    "    print(\"Tuples are mutable\")\n",
    "except TypeError:\n",
    "    print(\"Tuples are immutable\")\n",
    "an_int = 1\n",
    "try:\n",
    "    an_int = 99\n",
    "    # print(\"The new int = \", an_int)\n",
    "    print(\"Integers are mutable\")\n",
    "except TypeError:\n",
    "    print(\"Integers are immutable\")\n",
    "\n"
   ]
  },
  {
   "cell_type": "code",
   "execution_count": null,
   "metadata": {},
   "outputs": [],
   "source": [
    "# 2. Create a python module that prints something (e.g. `Hello World!`) and run it from the command line using `python module_name.py`.\n",
    "# 3. Create a python notebook and run it in VS Code\n",
    "\n",
    "# Can't replicate these in a notebook\n"
   ]
  },
  {
   "cell_type": "code",
   "execution_count": 35,
   "metadata": {},
   "outputs": [
    {
     "name": "stdout",
     "output_type": "stream",
     "text": [
      "Fibonacci series up to 10:  [0, 1, 1, 2, 3, 5, 8]\n",
      "Fibonacci series up to 100:  [0, 1, 1, 2, 3, 5, 8, 13, 21, 34, 55, 89]\n"
     ]
    }
   ],
   "source": [
    "# 4. Write a function that finds the Fibonacci sequence up to an integer `N` > 0 in the notebook.\n",
    "# Now call this function for `N = 10` and `N=100`.\n",
    "def fibo(N):\n",
    "    assert N > 0  # raise error if N <= 0\n",
    "    seq = [0]\n",
    "    while seq[-1] <  N:\n",
    "        if len(seq) == 1:\n",
    "            seq.append(1)\n",
    "        else:\n",
    "            seq.append(seq[-1] + seq[-2])\n",
    "    return seq[:-1]\n",
    "\n",
    "print(\"Fibonacci series up to 10: \", fibo(10))\n",
    "print(\"Fibonacci series up to 100: \", fibo(100))"
   ]
  },
  {
   "cell_type": "code",
   "execution_count": 38,
   "metadata": {},
   "outputs": [
    {
     "name": "stdout",
     "output_type": "stream",
     "text": [
      "The relative path is:  /Users/jason.debacker/repos/UN-OG-Training/code\n"
     ]
    }
   ],
   "source": [
    "# 5. Use the `sys` module to create a relative path from a Python module, print that path.\n",
    "print(\"The relative path is: \", sys.path[0])"
   ]
  },
  {
   "cell_type": "code",
   "execution_count": null,
   "metadata": {},
   "outputs": [],
   "source": []
  },
  {
   "cell_type": "markdown",
   "metadata": {},
   "source": [
    "## Numpy Chapter Excercies   \n"
   ]
  },
  {
   "cell_type": "code",
   "execution_count": 4,
   "metadata": {},
   "outputs": [
    {
     "name": "stdout",
     "output_type": "stream",
     "text": [
      "b =  [[1.1 2.2 3.  2.  1. ]\n",
      " [3.3 4.4 5.  3.7 2. ]]\n",
      "b.shape =  (2, 5)\n",
      "First row of b =  [1.1 2.2 3.  2.  1. ]\n",
      "Second column of b =  [2.2 4.4]\n",
      "First two rows and last three columns of b =  [[3.  2.  1. ]\n",
      " [5.  3.7 2. ]]\n"
     ]
    }
   ],
   "source": [
    "# 1. Create a matrix b\n",
    "b = np.array([[1.1, 2.2, 3.0, 2.0, 1.0], [3.3, 4.4, 5.0, 3.7, 2.0]])\n",
    "print(\"b = \", b)\n",
    "print(\"b.shape = \", b.shape)\n",
    "# Use the `shape` method of Numpy arrays to print the shape of this matrix.\n",
    "# Use array slicing to print the first row of `b`, which represents the\n",
    "# lifecycle savings decisions of the first agent (i.e., the amount they\n",
    "# choose to save in each of their 5 periods of life).  Use array slicing\n",
    "# to print the second column of `b`, which is the saves of both agents\n",
    "# when they are in their second period of life.  Finally, use array\n",
    "# slicing to print the first two rows and the last three columns of `b`\n",
    "# (i.e., the savings of both agents from middle age onwards).\n",
    "print(\"First row of b = \", b[0, :])\n",
    "print(\"Second column of b = \", b[:, 1])\n",
    "print(\"First two rows and last three columns of b = \", b[0:2, 2:5])"
   ]
  },
  {
   "cell_type": "code",
   "execution_count": 28,
   "metadata": {},
   "outputs": [
    {
     "name": "stdout",
     "output_type": "stream",
     "text": [
      "B =  [[0.725 1.024]\n",
      " [1.407 2.09 ]]\n",
      "The diagonal elements of B have some meaning.\n",
      " The top left is the total savings of all type 1 agents (across cohorts).\n",
      " The bottom right is the total savings of all type 2 agents (across cohorts).\n",
      " The off-diagonal elements of B have no meaning since these are the \n",
      " sum of one types savings with another types weights.\n"
     ]
    }
   ],
   "source": [
    "# 2. Define `Omega` and compute the dot product of b and the transpose of Omega\n",
    "Omega = np.array([[0.05, 0.05, 0.08, 0.06, 0.2], [0.12, 0.16, 0.03, 0.2, 0.05]])\n",
    "B = np.dot(b, Omega.T)\n",
    "print(\"B = \", B)\n",
    "print(\"The diagonal elements of B have some meaning.\\n \" +\n",
    "      \"The top left is the total savings of all type 1 agents (across cohorts).\\n \" +\n",
    "      \"The bottom right is the total savings of all type 2 agents (across cohorts).\\n \" +\n",
    "      \"The off-diagonal elements of B have no meaning since these are the \\n \" +\n",
    "      \"sum of one types savings with another types weights.\")"
   ]
  },
  {
   "cell_type": "code",
   "execution_count": 18,
   "metadata": {},
   "outputs": [
    {
     "name": "stdout",
     "output_type": "stream",
     "text": [
      "Savings by cohort =  [0.451 0.814 0.39  0.86  0.3  ]\n"
     ]
    }
   ],
   "source": [
    "# 3. Multiply the matrix `b` by the matrix `Omega` element-wise (Hadamard product).  Use the `np.array.sum()` method on the resulting matrix to find the total savings of each cohort.\n",
    "C = b * Omega\n",
    "print(\"Savings by cohort = \", C.sum(axis=0))"
   ]
  },
  {
   "cell_type": "code",
   "execution_count": 19,
   "metadata": {},
   "outputs": [
    {
     "name": "stdout",
     "output_type": "stream",
     "text": [
      "Matrix of zeros like b =  [[0. 0. 0. 0. 0.]\n",
      " [0. 0. 0. 0. 0.]]\n"
     ]
    }
   ],
   "source": [
    "# 3. In one line, create a matrix of zeros that is the same size as `b`.\n",
    "b_zeros = np.zeros_like(b)\n",
    "print(\"Matrix of zeros like b = \", b_zeros)"
   ]
  },
  {
   "cell_type": "code",
   "execution_count": 25,
   "metadata": {},
   "outputs": [
    {
     "name": "stdout",
     "output_type": "stream",
     "text": [
      "Indices of elements of b that are greater than 2.0 =  [[0.  2.2 3.  0.  0. ]\n",
      " [3.3 4.4 5.  3.7 0. ]]\n",
      "(2, 5)\n"
     ]
    }
   ],
   "source": [
    "# 4. Use `np.where` to return the elements of `b` that are greater than 2.0 and zero elsewhere.\n",
    "b_gt2 = np.where(b > 2.0, b, b_zeros)\n",
    "print(\"Indices of elements of b that are greater than 2.0 = \", b_gt2)\n",
    "print(b_gt2.shape)"
   ]
  },
  {
   "cell_type": "markdown",
   "metadata": {},
   "source": []
  },
  {
   "cell_type": "code",
   "execution_count": 26,
   "metadata": {},
   "outputs": [
    {
     "name": "stdout",
     "output_type": "stream",
     "text": [
      "New b matrix with 3 types of agents =  [[1.1 2.2 3.  2.  1. ]\n",
      " [3.3 4.4 5.  3.7 2. ]\n",
      " [4.1 5.1 7.1 4.5 0.9]]\n"
     ]
    }
   ],
   "source": [
    "# 5. Now suppose a 3rd type of agent.\n",
    "# This agent has savings $b_3 = \\[4.1, 5.1, 7.1, 4.5, 0.9]$.\n",
    "# Use `np.vstack` to stack `b` on top of `b_3` to create a new matrix `b_new`.\n",
    "b_3 = np.array([4.1, 5.1, 7.1, 4.5, 0.9])\n",
    "b_new = np.vstack((b, b_3))\n",
    "print(\"New b matrix with 3 types of agents = \", b_new)"
   ]
  },
  {
   "cell_type": "code",
   "execution_count": null,
   "metadata": {},
   "outputs": [],
   "source": []
  }
 ],
 "metadata": {
  "kernelspec": {
   "display_name": "jrc-env",
   "language": "python",
   "name": "python3"
  },
  "language_info": {
   "codemirror_mode": {
    "name": "ipython",
    "version": 3
   },
   "file_extension": ".py",
   "mimetype": "text/x-python",
   "name": "python",
   "nbconvert_exporter": "python",
   "pygments_lexer": "ipython3",
   "version": "3.11.5"
  },
  "orig_nbformat": 4
 },
 "nbformat": 4,
 "nbformat_minor": 2
}
