{
 "cells": [
  {
   "cell_type": "markdown",
   "metadata": {},
   "source": [
    "# Solutions to the OG-UN-Training Exercises\n",
    "### by Jason DeBacker and Richard W. Evans, 2023"
   ]
  },
  {
   "cell_type": "code",
   "execution_count": 37,
   "metadata": {},
   "outputs": [],
   "source": [
    "# imports\n",
    "import numpy as np\n",
    "import pandas as pd\n",
    "import scipy\n",
    "import matplotlib\n",
    "import sys\n"
   ]
  },
  {
   "cell_type": "markdown",
   "metadata": {},
   "source": [
    "## Standard Library Chapter Exercises\n",
    "\n",
    "1. Use the `sys` module to create a relative path from a Python module, print that path."
   ]
  },
  {
   "cell_type": "code",
   "execution_count": 34,
   "metadata": {},
   "outputs": [
    {
     "name": "stdout",
     "output_type": "stream",
     "text": [
      "Strings are immutable\n",
      "Dictionaries are mutable\n",
      "Lists are mutable\n",
      "Sets are immutable\n",
      "Tuples are immutable\n",
      "Integers are mutable\n"
     ]
    }
   ],
   "source": [
    "# 1. Determine which of Python's built in objects (string, dict, list, tuple, set) are mutable and which are immutable.\n",
    "a_string = \"Alliteration\"\n",
    "try:\n",
    "    a_string[0] = \"B\"\n",
    "    print(\"Strings are mutable\")\n",
    "except TypeError:\n",
    "    print(\"Strings are immutable\")\n",
    "a_dict = {\"a\": 1, \"b\": 2, \"c\": 3}\n",
    "try:\n",
    "    a_dict[\"a\"] = 99\n",
    "    # print(\"The new dictionary = \", a_dict)\n",
    "    print(\"Dictionaries are mutable\")\n",
    "except TypeError:\n",
    "    print(\"Dictionaries are immutable\")\n",
    "a_list = [1, 2, 3, 4, 5]\n",
    "try:\n",
    "    a_list[0] = 99\n",
    "    # print(\"The new list =  \", a_list)\n",
    "    print(\"Lists are mutable\")\n",
    "except TypeError:\n",
    "    print(\"Lists are immutable\")\n",
    "a_set = {1, 2, 3, 4, 5}\n",
    "try:\n",
    "    a_set[0] = 99\n",
    "    # print(\"The new set = \", a_set)\n",
    "    print(\"Sets are mutable\")\n",
    "except TypeError:\n",
    "    print(\"Sets are immutable\")\n",
    "a_tuple = (1, 2, 3, 4, 5)\n",
    "try:\n",
    "    a_tuple[0] = 99\n",
    "    # print(\"The new tuple = \", a_tuple)\n",
    "    print(\"Tuples are mutable\")\n",
    "except TypeError:\n",
    "    print(\"Tuples are immutable\")\n",
    "an_int = 1\n",
    "try:\n",
    "    an_int = 99\n",
    "    # print(\"The new int = \", an_int)\n",
    "    print(\"Integers are mutable\")\n",
    "except TypeError:\n",
    "    print(\"Integers are immutable\")\n",
    "\n"
   ]
  },
  {
   "cell_type": "code",
   "execution_count": null,
   "metadata": {},
   "outputs": [],
   "source": [
    "# 2. Create a python module that prints something (e.g. `Hello World!`) and run it from the command line using `python module_name.py`.\n",
    "# 3. Create a python notebook and run it in VS Code\n",
    "\n",
    "# Can't replicate these in a notebook\n"
   ]
  },
  {
   "cell_type": "code",
   "execution_count": 35,
   "metadata": {},
   "outputs": [
    {
     "name": "stdout",
     "output_type": "stream",
     "text": [
      "Fibonacci series up to 10:  [0, 1, 1, 2, 3, 5, 8]\n",
      "Fibonacci series up to 100:  [0, 1, 1, 2, 3, 5, 8, 13, 21, 34, 55, 89]\n"
     ]
    }
   ],
   "source": [
    "# 4. Write a function that finds the Fibonacci sequence up to an integer `N` > 0 in the notebook.\n",
    "# Now call this function for `N = 10` and `N=100`.\n",
    "def fibo(N):\n",
    "    assert N > 0  # raise error if N <= 0\n",
    "    seq = [0]\n",
    "    while seq[-1] <  N:\n",
    "        if len(seq) == 1:\n",
    "            seq.append(1)\n",
    "        else:\n",
    "            seq.append(seq[-1] + seq[-2])\n",
    "    return seq[:-1]\n",
    "\n",
    "print(\"Fibonacci series up to 10: \", fibo(10))\n",
    "print(\"Fibonacci series up to 100: \", fibo(100))"
   ]
  },
  {
   "cell_type": "code",
   "execution_count": 38,
   "metadata": {},
   "outputs": [
    {
     "name": "stdout",
     "output_type": "stream",
     "text": [
      "The relative path is:  /Users/jason.debacker/repos/UN-OG-Training/code\n"
     ]
    }
   ],
   "source": [
    "# 5. Use the `sys` module to create a relative path from a Python module, print that path.\n",
    "print(\"The relative path is: \", sys.path[0])"
   ]
  },
  {
   "cell_type": "markdown",
   "metadata": {},
   "source": [
    "## Object Oriented Programming Chapter Exercises"
   ]
  },
  {
   "cell_type": "code",
   "execution_count": 42,
   "metadata": {},
   "outputs": [
    {
     "name": "stdout",
     "output_type": "stream",
     "text": [
      "Two instances of the Specifications class with different parameterizations of beta:  0.96 0.99\n"
     ]
    }
   ],
   "source": [
    "# 1. Define a class called `Specifications` with an attribute that is the rate of time preference, $\\beta$.\n",
    "# Create instances of this class called `p1` for $\\beta=0.96$ and `p2` $\\beta=0.99$.\n",
    "\n",
    "class Specifications:\n",
    "    def __init__(self, beta):\n",
    "        self.beta = beta\n",
    "\n",
    "p = Specifications(0.96)\n",
    "q = Specifications(0.99)\n",
    "print(\"Two instances of the Specifications class with different parameterizations of beta: \", p.beta, q.beta)"
   ]
  },
  {
   "cell_type": "code",
   "execution_count": 43,
   "metadata": {},
   "outputs": [
    {
     "name": "stdout",
     "output_type": "stream",
     "text": [
      "Two instances of the Specifications class with different parameterizations of beta:  0.96 0.99\n",
      "Beta must be between 0 and 1\n"
     ]
    }
   ],
   "source": [
    "# 2. Update the `Specifications` class so that allows one to specify the\n",
    "# value of $\\beta$ upon initialization of the class and checks that $\\beta$ is between 0 and 1.\n",
    "\n",
    "class Specifications:\n",
    "    def __init__(self, beta):\n",
    "        assert 0 < beta < 1\n",
    "        self.beta = beta\n",
    "p = Specifications(0.96)\n",
    "q = Specifications(0.99)\n",
    "print(\"Two instances of the Specifications class with different parameterizations of beta: \", p.beta, q.beta)\n",
    "# Try a beta out of range:\n",
    "try:\n",
    "    p3 = Specifications(1.01)\n",
    "except AssertionError:\n",
    "    print(\"Beta must be between 0 and 1\")"
   ]
  },
  {
   "cell_type": "code",
   "execution_count": 44,
   "metadata": {},
   "outputs": [
    {
     "name": "stdout",
     "output_type": "stream",
     "text": [
      "Beta =  0.96\n"
     ]
    }
   ],
   "source": [
    "# 3. Modify the `Specifications` class so that it has a method that prints the value of $\\beta$.\n",
    "\n",
    "class Specifications:\n",
    "    def __init__(self, beta):\n",
    "        assert 0 < beta < 1\n",
    "        self.beta = beta\n",
    "    \n",
    "    def print_beta(self):\n",
    "        print(\"Beta = \", self.beta)\n",
    "\n",
    "# Test this:\n",
    "p = Specifications(0.96)\n",
    "p.print_beta()\n"
   ]
  },
  {
   "cell_type": "code",
   "execution_count": 51,
   "metadata": {},
   "outputs": [
    {
     "name": "stdout",
     "output_type": "stream",
     "text": [
      "With 80 periods, Beta annual =  0.96  Beta per period =  0.96\n",
      "With 40 periods, Beta annual =  0.96  Beta per period =  0.9216\n",
      "With 10 periods, Beta annual =  0.96  Beta per period =  0.7213895789838334\n"
     ]
    }
   ],
   "source": [
    "# 4. Change the input of $\\beta$ to the class so that it is input at an annual rate.\n",
    "# Allow another attribute of the class called `S` that is the number of periods in\n",
    "# an economic agent's life.  Include a method in the `Specifications` class that\n",
    "# adjusts the value  the value of $\\beta$ to represent the discount rate applied\n",
    "# per model period, which will be equivalent to `S/80` years.\n",
    "\n",
    "class Specifications:\n",
    "    def __init__(self, beta_annual, S):\n",
    "        assert 0 < beta_annual < 1\n",
    "        self.beta_annual = beta_annual\n",
    "        self.S = S\n",
    "    \n",
    "    def print_beta(self):\n",
    "        print(\"Beta = \", self.beta_annual)\n",
    "    \n",
    "    def beta_adjust(self):\n",
    "        self.beta = self.beta_annual ** (80 / self.S)\n",
    "\n",
    "# Test this\n",
    "p = Specifications(0.96, 80)\n",
    "p.beta_adjust()\n",
    "print(\"With\" , p.S, \"periods, Beta annual = \", p.beta_annual, \" Beta per period = \", p.beta)\n",
    "p2 = Specifications(0.96, 40)\n",
    "p2.beta_adjust()\n",
    "print(\"With\" , p2.S, \"periods, Beta annual = \", p2.beta_annual, \" Beta per period = \", p2.beta)\n",
    "p3 = Specifications(0.96, 10)\n",
    "p3.beta_adjust()\n",
    "print(\"With\" , p3.S, \"periods, Beta annual = \", p3.beta_annual, \" Beta per period = \", p3.beta)"
   ]
  },
  {
   "cell_type": "code",
   "execution_count": 53,
   "metadata": {},
   "outputs": [
    {
     "name": "stdout",
     "output_type": "stream",
     "text": [
      "With 80 periods, Beta annual =  0.96  Beta per period =  0.96\n",
      "With 40 periods, Beta annual =  0.8  Beta per period =  0.6400000000000001\n"
     ]
    }
   ],
   "source": [
    "# 5. Add a method to the `Specifications` class that allows one to update the\n",
    "# values of the class attributes `S` and `beta_annual` by providing a\n",
    "# dictionary of the form `{\"S\": 40, \"beta_annual\": 0.8}`.\n",
    "# Ensure that when the instance is updated, the new `beta` attribute is\n",
    "# consistent with the new `S` and `beta_annual`.\n",
    "\n",
    "class Specifications:\n",
    "    def __init__(self, beta_annual, S):\n",
    "        assert 0 < beta_annual < 1\n",
    "        self.beta_annual = beta_annual\n",
    "        self.S = S\n",
    "    \n",
    "    def print_beta(self):\n",
    "        print(\"Beta = \", self.beta_annual)\n",
    "    \n",
    "    def beta_adjust(self):\n",
    "        self.beta = self.beta_annual ** (80 / self.S)\n",
    "    \n",
    "    def update(self, new_dict):\n",
    "        for key, value in new_dict.items():\n",
    "            setattr(self, key, value)\n",
    "        self.beta_adjust()\n",
    "    \n",
    "# Test this\n",
    "p = Specifications(0.96, 80)\n",
    "p.beta_adjust()\n",
    "print(\"With\" , p.S, \"periods, Beta annual = \", p.beta_annual, \" Beta per period = \", p.beta)\n",
    "p.update({\"S\": 40, \"beta_annual\": 0.8})\n",
    "print(\"With\" , p.S, \"periods, Beta annual = \", p.beta_annual, \" Beta per period = \", p.beta)"
   ]
  },
  {
   "cell_type": "markdown",
   "metadata": {},
   "source": [
    "## Numpy Chapter Excercies   \n"
   ]
  },
  {
   "cell_type": "code",
   "execution_count": 4,
   "metadata": {},
   "outputs": [
    {
     "name": "stdout",
     "output_type": "stream",
     "text": [
      "b =  [[1.1 2.2 3.  2.  1. ]\n",
      " [3.3 4.4 5.  3.7 2. ]]\n",
      "b.shape =  (2, 5)\n",
      "First row of b =  [1.1 2.2 3.  2.  1. ]\n",
      "Second column of b =  [2.2 4.4]\n",
      "First two rows and last three columns of b =  [[3.  2.  1. ]\n",
      " [5.  3.7 2. ]]\n"
     ]
    }
   ],
   "source": [
    "# 1. Create a matrix b\n",
    "b = np.array([[1.1, 2.2, 3.0, 2.0, 1.0], [3.3, 4.4, 5.0, 3.7, 2.0]])\n",
    "print(\"b = \", b)\n",
    "print(\"b.shape = \", b.shape)\n",
    "# Use the `shape` method of Numpy arrays to print the shape of this matrix.\n",
    "# Use array slicing to print the first row of `b`, which represents the\n",
    "# lifecycle savings decisions of the first agent (i.e., the amount they\n",
    "# choose to save in each of their 5 periods of life).  Use array slicing\n",
    "# to print the second column of `b`, which is the saves of both agents\n",
    "# when they are in their second period of life.  Finally, use array\n",
    "# slicing to print the first two rows and the last three columns of `b`\n",
    "# (i.e., the savings of both agents from middle age onwards).\n",
    "print(\"First row of b = \", b[0, :])\n",
    "print(\"Second column of b = \", b[:, 1])\n",
    "print(\"First two rows and last three columns of b = \", b[0:2, 2:5])"
   ]
  },
  {
   "cell_type": "code",
   "execution_count": 28,
   "metadata": {},
   "outputs": [
    {
     "name": "stdout",
     "output_type": "stream",
     "text": [
      "B =  [[0.725 1.024]\n",
      " [1.407 2.09 ]]\n",
      "The diagonal elements of B have some meaning.\n",
      " The top left is the total savings of all type 1 agents (across cohorts).\n",
      " The bottom right is the total savings of all type 2 agents (across cohorts).\n",
      " The off-diagonal elements of B have no meaning since these are the \n",
      " sum of one types savings with another types weights.\n"
     ]
    }
   ],
   "source": [
    "# 2. Define `Omega` and compute the dot product of b and the transpose of Omega\n",
    "Omega = np.array([[0.05, 0.05, 0.08, 0.06, 0.2], [0.12, 0.16, 0.03, 0.2, 0.05]])\n",
    "B = np.dot(b, Omega.T)\n",
    "print(\"B = \", B)\n",
    "print(\"The diagonal elements of B have some meaning.\\n \" +\n",
    "      \"The top left is the total savings of all type 1 agents (across cohorts).\\n \" +\n",
    "      \"The bottom right is the total savings of all type 2 agents (across cohorts).\\n \" +\n",
    "      \"The off-diagonal elements of B have no meaning since these are the \\n \" +\n",
    "      \"sum of one types savings with another types weights.\")"
   ]
  },
  {
   "cell_type": "code",
   "execution_count": 18,
   "metadata": {},
   "outputs": [
    {
     "name": "stdout",
     "output_type": "stream",
     "text": [
      "Savings by cohort =  [0.451 0.814 0.39  0.86  0.3  ]\n"
     ]
    }
   ],
   "source": [
    "# 3. Multiply the matrix `b` by the matrix `Omega` element-wise (Hadamard product).  Use the `np.array.sum()` method on the resulting matrix to find the total savings of each cohort.\n",
    "C = b * Omega\n",
    "print(\"Savings by cohort = \", C.sum(axis=0))"
   ]
  },
  {
   "cell_type": "code",
   "execution_count": 19,
   "metadata": {},
   "outputs": [
    {
     "name": "stdout",
     "output_type": "stream",
     "text": [
      "Matrix of zeros like b =  [[0. 0. 0. 0. 0.]\n",
      " [0. 0. 0. 0. 0.]]\n"
     ]
    }
   ],
   "source": [
    "# 3. In one line, create a matrix of zeros that is the same size as `b`.\n",
    "b_zeros = np.zeros_like(b)\n",
    "print(\"Matrix of zeros like b = \", b_zeros)"
   ]
  },
  {
   "cell_type": "code",
   "execution_count": 25,
   "metadata": {},
   "outputs": [
    {
     "name": "stdout",
     "output_type": "stream",
     "text": [
      "Indices of elements of b that are greater than 2.0 =  [[0.  2.2 3.  0.  0. ]\n",
      " [3.3 4.4 5.  3.7 0. ]]\n",
      "(2, 5)\n"
     ]
    }
   ],
   "source": [
    "# 4. Use `np.where` to return the elements of `b` that are greater than 2.0 and zero elsewhere.\n",
    "b_gt2 = np.where(b > 2.0, b, b_zeros)\n",
    "print(\"Indices of elements of b that are greater than 2.0 = \", b_gt2)\n",
    "print(b_gt2.shape)"
   ]
  },
  {
   "cell_type": "markdown",
   "metadata": {},
   "source": []
  },
  {
   "cell_type": "code",
   "execution_count": 26,
   "metadata": {},
   "outputs": [
    {
     "name": "stdout",
     "output_type": "stream",
     "text": [
      "New b matrix with 3 types of agents =  [[1.1 2.2 3.  2.  1. ]\n",
      " [3.3 4.4 5.  3.7 2. ]\n",
      " [4.1 5.1 7.1 4.5 0.9]]\n"
     ]
    }
   ],
   "source": [
    "# 5. Now suppose a 3rd type of agent.\n",
    "# This agent has savings $b_3 = \\[4.1, 5.1, 7.1, 4.5, 0.9]$.\n",
    "# Use `np.vstack` to stack `b` on top of `b_3` to create a new matrix `b_new`.\n",
    "b_3 = np.array([4.1, 5.1, 7.1, 4.5, 0.9])\n",
    "b_new = np.vstack((b, b_3))\n",
    "print(\"New b matrix with 3 types of agents = \", b_new)"
   ]
  },
  {
   "cell_type": "markdown",
   "metadata": {},
   "source": [
    "## Pandas Chapter Exercises"
   ]
  },
  {
   "cell_type": "code",
   "execution_count": 55,
   "metadata": {},
   "outputs": [
    {
     "name": "stdout",
     "output_type": "stream",
     "text": [
      "   Year   IND    MYS    USA\n",
      "0  1990  2087   8179  36982\n",
      "1  2000  2753  13475  45886\n",
      "2  2010  4526  18574  49267\n",
      "3  2018  6806  24842  55335\n"
     ]
    }
   ],
   "source": [
    "# 1. Creat a dataframe from a dictionary\n",
    "gdppc_dict = {\n",
    "    \"Year\": [1990, 2000, 2010, 2018],\n",
    "    \"IND\": [2087, 2753, 4526, 6806],\n",
    "    \"MYS\": [8179, 13475, 18574, 24842],\n",
    "    \"USA\": [36982, 45886, 49267, 55335],\n",
    "}\n",
    "df = pd.DataFrame(gdppc_dict)\n",
    "print(df)"
   ]
  },
  {
   "cell_type": "code",
   "execution_count": 56,
   "metadata": {},
   "outputs": [
    {
     "name": "stdout",
     "output_type": "stream",
     "text": [
      "DataFrame head =     Year   IND    MYS    USA\n",
      "0  1990  2087   8179  36982\n",
      "1  2000  2753  13475  45886\n",
      "2  2010  4526  18574  49267\n",
      "DataFrame tail =     Year   IND    MYS    USA\n",
      "1  2000  2753  13475  45886\n",
      "2  2010  4526  18574  49267\n",
      "3  2018  6806  24842  55335\n",
      "DataFrame column names =  Index(['Year', 'IND', 'MYS', 'USA'], dtype='object')\n",
      "DataFrame descriptive statistics =                Year          IND           MYS           USA\n",
      "count     4.000000     4.000000      4.000000      4.000000\n",
      "mean   2004.500000  4043.000000  16267.500000  46867.500000\n",
      "std      12.151817  2110.094311   7119.547762   7662.519364\n",
      "min    1990.000000  2087.000000   8179.000000  36982.000000\n",
      "25%    1997.500000  2586.500000  12151.000000  43660.000000\n",
      "50%    2005.000000  3639.500000  16024.500000  47576.500000\n",
      "75%    2012.000000  5096.000000  20141.000000  50784.000000\n",
      "max    2018.000000  6806.000000  24842.000000  55335.000000\n"
     ]
    }
   ],
   "source": [
    "# 2. Inspect this data frame.  Print `df.head(3)`.  Print `df.tail(3)`.\n",
    "# Get a list of column names with the `keys` method.\n",
    "#Finally, use the  `describe` method to print descriptive statistics.\n",
    "print(\"DataFrame head = \", df.head(3))\n",
    "print(\"DataFrame tail = \", df.tail(3))\n",
    "print(\"DataFrame column names = \", df.keys())\n",
    "print(\"DataFrame descriptive statistics = \", df.describe())"
   ]
  },
  {
   "cell_type": "code",
   "execution_count": 58,
   "metadata": {},
   "outputs": [
    {
     "ename": "KeyError",
     "evalue": "\"None of ['Year'] are in the columns\"",
     "output_type": "error",
     "traceback": [
      "\u001b[0;31m---------------------------------------------------------------------------\u001b[0m",
      "\u001b[0;31mKeyError\u001b[0m                                  Traceback (most recent call last)",
      "\u001b[0;32m/var/folders/bw/1cvntf9x02b49nfwgy_qnfn00000gp/T/ipykernel_48014/1844760446.py\u001b[0m in \u001b[0;36m?\u001b[0;34m()\u001b[0m\n\u001b[1;32m      1\u001b[0m \u001b[0;31m# 3. Pandas DataFrame use an index to keep track of rows.\u001b[0m\u001b[0;34m\u001b[0m\u001b[0;34m\u001b[0m\u001b[0m\n\u001b[1;32m      2\u001b[0m \u001b[0;31m# Not the default index in `df` are integers for each row.\u001b[0m\u001b[0;34m\u001b[0m\u001b[0;34m\u001b[0m\u001b[0m\n\u001b[1;32m      3\u001b[0m \u001b[0;31m# Let's change the index so the year is the index value. Print the updated DataFrame.\u001b[0m\u001b[0;34m\u001b[0m\u001b[0;34m\u001b[0m\u001b[0m\n\u001b[0;32m----> 4\u001b[0;31m \u001b[0mdf\u001b[0m \u001b[0;34m=\u001b[0m \u001b[0mdf\u001b[0m\u001b[0;34m.\u001b[0m\u001b[0mset_index\u001b[0m\u001b[0;34m(\u001b[0m\u001b[0;34m\"Year\"\u001b[0m\u001b[0;34m)\u001b[0m\u001b[0;34m\u001b[0m\u001b[0;34m\u001b[0m\u001b[0m\n\u001b[0m\u001b[1;32m      5\u001b[0m \u001b[0mprint\u001b[0m\u001b[0;34m(\u001b[0m\u001b[0;34m\"DataFrame with year as index = \"\u001b[0m\u001b[0;34m,\u001b[0m \u001b[0mdf\u001b[0m\u001b[0;34m)\u001b[0m\u001b[0;34m\u001b[0m\u001b[0;34m\u001b[0m\u001b[0m\n\u001b[1;32m      6\u001b[0m \u001b[0mdf\u001b[0m\u001b[0;34m\u001b[0m\u001b[0;34m\u001b[0m\u001b[0m\n",
      "\u001b[0;32m~/anaconda3/envs/un-og-training-dev/lib/python3.11/site-packages/pandas/core/frame.py\u001b[0m in \u001b[0;36m?\u001b[0;34m(self, keys, drop, append, inplace, verify_integrity)\u001b[0m\n\u001b[1;32m   5869\u001b[0m                     \u001b[0;32mif\u001b[0m \u001b[0;32mnot\u001b[0m \u001b[0mfound\u001b[0m\u001b[0;34m:\u001b[0m\u001b[0;34m\u001b[0m\u001b[0;34m\u001b[0m\u001b[0m\n\u001b[1;32m   5870\u001b[0m                         \u001b[0mmissing\u001b[0m\u001b[0;34m.\u001b[0m\u001b[0mappend\u001b[0m\u001b[0;34m(\u001b[0m\u001b[0mcol\u001b[0m\u001b[0;34m)\u001b[0m\u001b[0;34m\u001b[0m\u001b[0;34m\u001b[0m\u001b[0m\n\u001b[1;32m   5871\u001b[0m \u001b[0;34m\u001b[0m\u001b[0m\n\u001b[1;32m   5872\u001b[0m         \u001b[0;32mif\u001b[0m \u001b[0mmissing\u001b[0m\u001b[0;34m:\u001b[0m\u001b[0;34m\u001b[0m\u001b[0;34m\u001b[0m\u001b[0m\n\u001b[0;32m-> 5873\u001b[0;31m             \u001b[0;32mraise\u001b[0m \u001b[0mKeyError\u001b[0m\u001b[0;34m(\u001b[0m\u001b[0;34mf\"None of {missing} are in the columns\"\u001b[0m\u001b[0;34m)\u001b[0m\u001b[0;34m\u001b[0m\u001b[0;34m\u001b[0m\u001b[0m\n\u001b[0m\u001b[1;32m   5874\u001b[0m \u001b[0;34m\u001b[0m\u001b[0m\n\u001b[1;32m   5875\u001b[0m         \u001b[0;32mif\u001b[0m \u001b[0minplace\u001b[0m\u001b[0;34m:\u001b[0m\u001b[0;34m\u001b[0m\u001b[0;34m\u001b[0m\u001b[0m\n\u001b[1;32m   5876\u001b[0m             \u001b[0mframe\u001b[0m \u001b[0;34m=\u001b[0m \u001b[0mself\u001b[0m\u001b[0;34m\u001b[0m\u001b[0;34m\u001b[0m\u001b[0m\n",
      "\u001b[0;31mKeyError\u001b[0m: \"None of ['Year'] are in the columns\""
     ]
    }
   ],
   "source": [
    "# 3. Pandas DataFrame use an index to keep track of rows.\n",
    "# Not the default index in `df` are integers for each row.\n",
    "# Let's change the index so the year is the index value. Print the updated DataFrame.\n",
    "df = df.set_index(\"Year\")\n",
    "print(\"DataFrame with year as index = \", df)"
   ]
  },
  {
   "cell_type": "code",
   "execution_count": 60,
   "metadata": {},
   "outputs": [
    {
     "data": {
      "text/plain": [
       "Year     \n",
       "1990  IND     2087\n",
       "      MYS     8179\n",
       "      USA    36982\n",
       "2000  IND     2753\n",
       "      MYS    13475\n",
       "      USA    45886\n",
       "2010  IND     4526\n",
       "      MYS    18574\n",
       "      USA    49267\n",
       "2018  IND     6806\n",
       "      MYS    24842\n",
       "      USA    55335\n",
       "dtype: int64"
      ]
     },
     "execution_count": 60,
     "metadata": {},
     "output_type": "execute_result"
    }
   ],
   "source": [
    "# 4. Let's reshape this into a long panel format with a `MultiIndex` for the columns.\n",
    "# The first level of the `MultiIndex` should be the year and the second level should be the country.\n",
    "# The values should be the GDP per capita.  To do this, use the pivottable. Print the DataFrame.\n",
    "df = df.stack()\n"
   ]
  },
  {
   "cell_type": "code",
   "execution_count": 62,
   "metadata": {},
   "outputs": [
    {
     "ename": "KeyError",
     "evalue": "'Country'",
     "output_type": "error",
     "traceback": [
      "\u001b[0;31m---------------------------------------------------------------------------\u001b[0m",
      "\u001b[0;31mKeyError\u001b[0m                                  Traceback (most recent call last)",
      "\u001b[1;32m/Users/jason.debacker/repos/UN-OG-Training/code/Textbook_Exercise_Solutions.ipynb Cell 27\u001b[0m line \u001b[0;36m3\n\u001b[1;32m      <a href='vscode-notebook-cell:/Users/jason.debacker/repos/UN-OG-Training/code/Textbook_Exercise_Solutions.ipynb#X44sZmlsZQ%3D%3D?line=0'>1</a>\u001b[0m \u001b[39m# 5. Create a new variable that is the GDP growth rate from the prior period measure.\u001b[39;00m\n\u001b[1;32m      <a href='vscode-notebook-cell:/Users/jason.debacker/repos/UN-OG-Training/code/Textbook_Exercise_Solutions.ipynb#X44sZmlsZQ%3D%3D?line=1'>2</a>\u001b[0m \u001b[39m# Using `groupby` to find mean GDP growth rate for each country ove the sample.\u001b[39;00m\n\u001b[0;32m----> <a href='vscode-notebook-cell:/Users/jason.debacker/repos/UN-OG-Training/code/Textbook_Exercise_Solutions.ipynb#X44sZmlsZQ%3D%3D?line=2'>3</a>\u001b[0m df[\u001b[39m\"\u001b[39m\u001b[39mGDP Growth\u001b[39m\u001b[39m\"\u001b[39m] \u001b[39m=\u001b[39m df\u001b[39m.\u001b[39;49mgroupby(\u001b[39m\"\u001b[39;49m\u001b[39mCountry\u001b[39;49m\u001b[39m\"\u001b[39;49m)\u001b[39m.\u001b[39mpct_change()\n\u001b[1;32m      <a href='vscode-notebook-cell:/Users/jason.debacker/repos/UN-OG-Training/code/Textbook_Exercise_Solutions.ipynb#X44sZmlsZQ%3D%3D?line=3'>4</a>\u001b[0m \u001b[39mprint\u001b[39m(\u001b[39m\"\u001b[39m\u001b[39mDataFrame with GDP growth = \u001b[39m\u001b[39m\"\u001b[39m, df)\n",
      "File \u001b[0;32m~/anaconda3/envs/un-og-training-dev/lib/python3.11/site-packages/pandas/core/series.py:2131\u001b[0m, in \u001b[0;36mSeries.groupby\u001b[0;34m(self, by, axis, level, as_index, sort, group_keys, observed, dropna)\u001b[0m\n\u001b[1;32m   2128\u001b[0m     \u001b[39mraise\u001b[39;00m \u001b[39mTypeError\u001b[39;00m(\u001b[39m\"\u001b[39m\u001b[39mas_index=False only valid with DataFrame\u001b[39m\u001b[39m\"\u001b[39m)\n\u001b[1;32m   2129\u001b[0m axis \u001b[39m=\u001b[39m \u001b[39mself\u001b[39m\u001b[39m.\u001b[39m_get_axis_number(axis)\n\u001b[0;32m-> 2131\u001b[0m \u001b[39mreturn\u001b[39;00m SeriesGroupBy(\n\u001b[1;32m   2132\u001b[0m     obj\u001b[39m=\u001b[39;49m\u001b[39mself\u001b[39;49m,\n\u001b[1;32m   2133\u001b[0m     keys\u001b[39m=\u001b[39;49mby,\n\u001b[1;32m   2134\u001b[0m     axis\u001b[39m=\u001b[39;49maxis,\n\u001b[1;32m   2135\u001b[0m     level\u001b[39m=\u001b[39;49mlevel,\n\u001b[1;32m   2136\u001b[0m     as_index\u001b[39m=\u001b[39;49mas_index,\n\u001b[1;32m   2137\u001b[0m     sort\u001b[39m=\u001b[39;49msort,\n\u001b[1;32m   2138\u001b[0m     group_keys\u001b[39m=\u001b[39;49mgroup_keys,\n\u001b[1;32m   2139\u001b[0m     observed\u001b[39m=\u001b[39;49mobserved,\n\u001b[1;32m   2140\u001b[0m     dropna\u001b[39m=\u001b[39;49mdropna,\n\u001b[1;32m   2141\u001b[0m )\n",
      "File \u001b[0;32m~/anaconda3/envs/un-og-training-dev/lib/python3.11/site-packages/pandas/core/groupby/groupby.py:1273\u001b[0m, in \u001b[0;36mGroupBy.__init__\u001b[0;34m(self, obj, keys, axis, level, grouper, exclusions, selection, as_index, sort, group_keys, observed, dropna)\u001b[0m\n\u001b[1;32m   1270\u001b[0m \u001b[39mself\u001b[39m\u001b[39m.\u001b[39mdropna \u001b[39m=\u001b[39m dropna\n\u001b[1;32m   1272\u001b[0m \u001b[39mif\u001b[39;00m grouper \u001b[39mis\u001b[39;00m \u001b[39mNone\u001b[39;00m:\n\u001b[0;32m-> 1273\u001b[0m     grouper, exclusions, obj \u001b[39m=\u001b[39m get_grouper(\n\u001b[1;32m   1274\u001b[0m         obj,\n\u001b[1;32m   1275\u001b[0m         keys,\n\u001b[1;32m   1276\u001b[0m         axis\u001b[39m=\u001b[39;49maxis,\n\u001b[1;32m   1277\u001b[0m         level\u001b[39m=\u001b[39;49mlevel,\n\u001b[1;32m   1278\u001b[0m         sort\u001b[39m=\u001b[39;49msort,\n\u001b[1;32m   1279\u001b[0m         observed\u001b[39m=\u001b[39;49m\u001b[39mFalse\u001b[39;49;00m \u001b[39mif\u001b[39;49;00m observed \u001b[39mis\u001b[39;49;00m lib\u001b[39m.\u001b[39;49mno_default \u001b[39melse\u001b[39;49;00m observed,\n\u001b[1;32m   1280\u001b[0m         dropna\u001b[39m=\u001b[39;49m\u001b[39mself\u001b[39;49m\u001b[39m.\u001b[39;49mdropna,\n\u001b[1;32m   1281\u001b[0m     )\n\u001b[1;32m   1283\u001b[0m \u001b[39mif\u001b[39;00m observed \u001b[39mis\u001b[39;00m lib\u001b[39m.\u001b[39mno_default:\n\u001b[1;32m   1284\u001b[0m     \u001b[39mif\u001b[39;00m \u001b[39many\u001b[39m(ping\u001b[39m.\u001b[39m_passed_categorical \u001b[39mfor\u001b[39;00m ping \u001b[39min\u001b[39;00m grouper\u001b[39m.\u001b[39mgroupings):\n",
      "File \u001b[0;32m~/anaconda3/envs/un-og-training-dev/lib/python3.11/site-packages/pandas/core/groupby/grouper.py:1009\u001b[0m, in \u001b[0;36mget_grouper\u001b[0;34m(obj, key, axis, level, sort, observed, validate, dropna)\u001b[0m\n\u001b[1;32m   1007\u001b[0m         in_axis, level, gpr \u001b[39m=\u001b[39m \u001b[39mFalse\u001b[39;00m, gpr, \u001b[39mNone\u001b[39;00m\n\u001b[1;32m   1008\u001b[0m     \u001b[39melse\u001b[39;00m:\n\u001b[0;32m-> 1009\u001b[0m         \u001b[39mraise\u001b[39;00m \u001b[39mKeyError\u001b[39;00m(gpr)\n\u001b[1;32m   1010\u001b[0m \u001b[39melif\u001b[39;00m \u001b[39misinstance\u001b[39m(gpr, Grouper) \u001b[39mand\u001b[39;00m gpr\u001b[39m.\u001b[39mkey \u001b[39mis\u001b[39;00m \u001b[39mnot\u001b[39;00m \u001b[39mNone\u001b[39;00m:\n\u001b[1;32m   1011\u001b[0m     \u001b[39m# Add key to exclusions\u001b[39;00m\n\u001b[1;32m   1012\u001b[0m     exclusions\u001b[39m.\u001b[39madd(gpr\u001b[39m.\u001b[39mkey)\n",
      "\u001b[0;31mKeyError\u001b[0m: 'Country'"
     ]
    }
   ],
   "source": [
    "# 5. Create a new variable that is the GDP growth rate from the prior period measure.\n",
    "# Using `groupby` to find mean GDP growth rate for each country ove the sample.\n",
    "df[\"GDP Growth\"] = df.groupby(\"Country\").pct_change()\n",
    "print(\"DataFrame with GDP growth = \", df)"
   ]
  },
  {
   "cell_type": "code",
   "execution_count": null,
   "metadata": {},
   "outputs": [],
   "source": []
  }
 ],
 "metadata": {
  "kernelspec": {
   "display_name": "jrc-env",
   "language": "python",
   "name": "python3"
  },
  "language_info": {
   "codemirror_mode": {
    "name": "ipython",
    "version": 3
   },
   "file_extension": ".py",
   "mimetype": "text/x-python",
   "name": "python",
   "nbconvert_exporter": "python",
   "pygments_lexer": "ipython3",
   "version": "3.11.5"
  },
  "orig_nbformat": 4
 },
 "nbformat": 4,
 "nbformat_minor": 2
}
