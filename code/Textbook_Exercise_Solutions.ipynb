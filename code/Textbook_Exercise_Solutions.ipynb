{
 "cells": [
  {
   "cell_type": "markdown",
   "metadata": {},
   "source": [
    "# Solutions to the OG-UN-Training Exercises\n",
    "### by Jason DeBacker and Richard W. Evans, 2023"
   ]
  },
  {
   "cell_type": "code",
   "execution_count": 37,
   "metadata": {},
   "outputs": [],
   "source": [
    "# imports\n",
    "import numpy as np\n",
    "import pandas as pd\n",
    "import scipy\n",
    "import matplotlib\n",
    "import sys\n"
   ]
  },
  {
   "cell_type": "markdown",
   "metadata": {},
   "source": [
    "## Standard Library Chapter Exercises\n",
    "\n",
    "1. Use the `sys` module to create a relative path from a Python module, print that path."
   ]
  },
  {
   "cell_type": "code",
   "execution_count": 34,
   "metadata": {},
   "outputs": [
    {
     "name": "stdout",
     "output_type": "stream",
     "text": [
      "Strings are immutable\n",
      "Dictionaries are mutable\n",
      "Lists are mutable\n",
      "Sets are immutable\n",
      "Tuples are immutable\n",
      "Integers are mutable\n"
     ]
    }
   ],
   "source": [
    "# 1. Determine which of Python's built in objects (string, dict, list, tuple, set) are mutable and which are immutable.\n",
    "a_string = \"Alliteration\"\n",
    "try:\n",
    "    a_string[0] = \"B\"\n",
    "    print(\"Strings are mutable\")\n",
    "except TypeError:\n",
    "    print(\"Strings are immutable\")\n",
    "a_dict = {\"a\": 1, \"b\": 2, \"c\": 3}\n",
    "try:\n",
    "    a_dict[\"a\"] = 99\n",
    "    # print(\"The new dictionary = \", a_dict)\n",
    "    print(\"Dictionaries are mutable\")\n",
    "except TypeError:\n",
    "    print(\"Dictionaries are immutable\")\n",
    "a_list = [1, 2, 3, 4, 5]\n",
    "try:\n",
    "    a_list[0] = 99\n",
    "    # print(\"The new list =  \", a_list)\n",
    "    print(\"Lists are mutable\")\n",
    "except TypeError:\n",
    "    print(\"Lists are immutable\")\n",
    "a_set = {1, 2, 3, 4, 5}\n",
    "try:\n",
    "    a_set[0] = 99\n",
    "    # print(\"The new set = \", a_set)\n",
    "    print(\"Sets are mutable\")\n",
    "except TypeError:\n",
    "    print(\"Sets are immutable\")\n",
    "a_tuple = (1, 2, 3, 4, 5)\n",
    "try:\n",
    "    a_tuple[0] = 99\n",
    "    # print(\"The new tuple = \", a_tuple)\n",
    "    print(\"Tuples are mutable\")\n",
    "except TypeError:\n",
    "    print(\"Tuples are immutable\")\n",
    "an_int = 1\n",
    "try:\n",
    "    an_int = 99\n",
    "    # print(\"The new int = \", an_int)\n",
    "    print(\"Integers are mutable\")\n",
    "except TypeError:\n",
    "    print(\"Integers are immutable\")\n",
    "\n"
   ]
  },
  {
   "cell_type": "code",
   "execution_count": null,
   "metadata": {},
   "outputs": [],
   "source": [
    "# 2. Create a python module that prints something (e.g. `Hello World!`) and run it from the command line using `python module_name.py`.\n",
    "# 3. Create a python notebook and run it in VS Code\n",
    "\n",
    "# Can't replicate these in a notebook\n"
   ]
  },
  {
   "cell_type": "code",
   "execution_count": 35,
   "metadata": {},
   "outputs": [
    {
     "name": "stdout",
     "output_type": "stream",
     "text": [
      "Fibonacci series up to 10:  [0, 1, 1, 2, 3, 5, 8]\n",
      "Fibonacci series up to 100:  [0, 1, 1, 2, 3, 5, 8, 13, 21, 34, 55, 89]\n"
     ]
    }
   ],
   "source": [
    "# 4. Write a function that finds the Fibonacci sequence up to an integer `N` > 0 in the notebook.\n",
    "# Now call this function for `N = 10` and `N=100`.\n",
    "def fibo(N):\n",
    "    assert N > 0  # raise error if N <= 0\n",
    "    seq = [0]\n",
    "    while seq[-1] <  N:\n",
    "        if len(seq) == 1:\n",
    "            seq.append(1)\n",
    "        else:\n",
    "            seq.append(seq[-1] + seq[-2])\n",
    "    return seq[:-1]\n",
    "\n",
    "print(\"Fibonacci series up to 10: \", fibo(10))\n",
    "print(\"Fibonacci series up to 100: \", fibo(100))"
   ]
  },
  {
   "cell_type": "code",
   "execution_count": 38,
   "metadata": {},
   "outputs": [
    {
     "name": "stdout",
     "output_type": "stream",
     "text": [
      "The relative path is:  /Users/jason.debacker/repos/UN-OG-Training/code\n"
     ]
    }
   ],
   "source": [
    "# 5. Use the `sys` module to create a relative path from a Python module, print that path.\n",
    "print(\"The relative path is: \", sys.path[0])"
   ]
  },
  {
   "cell_type": "markdown",
   "metadata": {},
   "source": [
    "## Object Oriented Programming Chapter Exercises"
   ]
  },
  {
   "cell_type": "code",
   "execution_count": 42,
   "metadata": {},
   "outputs": [
    {
     "name": "stdout",
     "output_type": "stream",
     "text": [
      "Two instances of the Specifications class with different parameterizations of beta:  0.96 0.99\n"
     ]
    }
   ],
   "source": [
    "# 1. Define a class called `Specifications` with an attribute that is the rate of time preference, $\\beta$.\n",
    "# Create instances of this class called `p1` for $\\beta=0.96$ and `p2` $\\beta=0.99$.\n",
    "\n",
    "class Specifications:\n",
    "    def __init__(self, beta):\n",
    "        self.beta = beta\n",
    "\n",
    "p = Specifications(0.96)\n",
    "q = Specifications(0.99)\n",
    "print(\"Two instances of the Specifications class with different parameterizations of beta: \", p.beta, q.beta)"
   ]
  },
  {
   "cell_type": "code",
   "execution_count": 43,
   "metadata": {},
   "outputs": [
    {
     "name": "stdout",
     "output_type": "stream",
     "text": [
      "Two instances of the Specifications class with different parameterizations of beta:  0.96 0.99\n",
      "Beta must be between 0 and 1\n"
     ]
    }
   ],
   "source": [
    "# 2. Update the `Specifications` class so that allows one to specify the\n",
    "# value of $\\beta$ upon initialization of the class and checks that $\\beta$ is between 0 and 1.\n",
    "\n",
    "class Specifications:\n",
    "    def __init__(self, beta):\n",
    "        assert 0 < beta < 1\n",
    "        self.beta = beta\n",
    "p = Specifications(0.96)\n",
    "q = Specifications(0.99)\n",
    "print(\"Two instances of the Specifications class with different parameterizations of beta: \", p.beta, q.beta)\n",
    "# Try a beta out of range:\n",
    "try:\n",
    "    p3 = Specifications(1.01)\n",
    "except AssertionError:\n",
    "    print(\"Beta must be between 0 and 1\")"
   ]
  },
  {
   "cell_type": "code",
   "execution_count": 44,
   "metadata": {},
   "outputs": [
    {
     "name": "stdout",
     "output_type": "stream",
     "text": [
      "Beta =  0.96\n"
     ]
    }
   ],
   "source": [
    "# 3. Modify the `Specifications` class so that it has a method that prints the value of $\\beta$.\n",
    "\n",
    "class Specifications:\n",
    "    def __init__(self, beta):\n",
    "        assert 0 < beta < 1\n",
    "        self.beta = beta\n",
    "    \n",
    "    def print_beta(self):\n",
    "        print(\"Beta = \", self.beta)\n",
    "\n",
    "# Test this:\n",
    "p = Specifications(0.96)\n",
    "p.print_beta()\n"
   ]
  },
  {
   "cell_type": "code",
   "execution_count": 51,
   "metadata": {},
   "outputs": [
    {
     "name": "stdout",
     "output_type": "stream",
     "text": [
      "With 80 periods, Beta annual =  0.96  Beta per period =  0.96\n",
      "With 40 periods, Beta annual =  0.96  Beta per period =  0.9216\n",
      "With 10 periods, Beta annual =  0.96  Beta per period =  0.7213895789838334\n"
     ]
    }
   ],
   "source": [
    "# 4. Change the input of $\\beta$ to the class so that it is input at an annual rate.\n",
    "# Allow another attribute of the class called `S` that is the number of periods in\n",
    "# an economic agent's life.  Include a method in the `Specifications` class that\n",
    "# adjusts the value  the value of $\\beta$ to represent the discount rate applied\n",
    "# per model period, which will be equivalent to `S/80` years.\n",
    "\n",
    "class Specifications:\n",
    "    def __init__(self, beta_annual, S):\n",
    "        assert 0 < beta_annual < 1\n",
    "        self.beta_annual = beta_annual\n",
    "        self.S = S\n",
    "    \n",
    "    def print_beta(self):\n",
    "        print(\"Beta = \", self.beta_annual)\n",
    "    \n",
    "    def beta_adjust(self):\n",
    "        self.beta = self.beta_annual ** (80 / self.S)\n",
    "\n",
    "# Test this\n",
    "p = Specifications(0.96, 80)\n",
    "p.beta_adjust()\n",
    "print(\"With\" , p.S, \"periods, Beta annual = \", p.beta_annual, \" Beta per period = \", p.beta)\n",
    "p2 = Specifications(0.96, 40)\n",
    "p2.beta_adjust()\n",
    "print(\"With\" , p2.S, \"periods, Beta annual = \", p2.beta_annual, \" Beta per period = \", p2.beta)\n",
    "p3 = Specifications(0.96, 10)\n",
    "p3.beta_adjust()\n",
    "print(\"With\" , p3.S, \"periods, Beta annual = \", p3.beta_annual, \" Beta per period = \", p3.beta)"
   ]
  },
  {
   "cell_type": "code",
   "execution_count": 53,
   "metadata": {},
   "outputs": [
    {
     "name": "stdout",
     "output_type": "stream",
     "text": [
      "With 80 periods, Beta annual =  0.96  Beta per period =  0.96\n",
      "With 40 periods, Beta annual =  0.8  Beta per period =  0.6400000000000001\n"
     ]
    }
   ],
   "source": [
    "# 5. Add a method to the `Specifications` class that allows one to update the\n",
    "# values of the class attributes `S` and `beta_annual` by providing a\n",
    "# dictionary of the form `{\"S\": 40, \"beta_annual\": 0.8}`.\n",
    "# Ensure that when the instance is updated, the new `beta` attribute is\n",
    "# consistent with the new `S` and `beta_annual`.\n",
    "\n",
    "class Specifications:\n",
    "    def __init__(self, beta_annual, S):\n",
    "        assert 0 < beta_annual < 1\n",
    "        self.beta_annual = beta_annual\n",
    "        self.S = S\n",
    "    \n",
    "    def print_beta(self):\n",
    "        print(\"Beta = \", self.beta_annual)\n",
    "    \n",
    "    def beta_adjust(self):\n",
    "        self.beta = self.beta_annual ** (80 / self.S)\n",
    "    \n",
    "    def update(self, new_dict):\n",
    "        for key, value in new_dict.items():\n",
    "            setattr(self, key, value)\n",
    "        self.beta_adjust()\n",
    "    \n",
    "# Test this\n",
    "p = Specifications(0.96, 80)\n",
    "p.beta_adjust()\n",
    "print(\"With\" , p.S, \"periods, Beta annual = \", p.beta_annual, \" Beta per period = \", p.beta)\n",
    "p.update({\"S\": 40, \"beta_annual\": 0.8})\n",
    "print(\"With\" , p.S, \"periods, Beta annual = \", p.beta_annual, \" Beta per period = \", p.beta)"
   ]
  },
  {
   "cell_type": "markdown",
   "metadata": {},
   "source": [
    "## Numpy Chapter Excercies   \n"
   ]
  },
  {
   "cell_type": "code",
   "execution_count": 4,
   "metadata": {},
   "outputs": [
    {
     "name": "stdout",
     "output_type": "stream",
     "text": [
      "b =  [[1.1 2.2 3.  2.  1. ]\n",
      " [3.3 4.4 5.  3.7 2. ]]\n",
      "b.shape =  (2, 5)\n",
      "First row of b =  [1.1 2.2 3.  2.  1. ]\n",
      "Second column of b =  [2.2 4.4]\n",
      "First two rows and last three columns of b =  [[3.  2.  1. ]\n",
      " [5.  3.7 2. ]]\n"
     ]
    }
   ],
   "source": [
    "# 1. Create a matrix b\n",
    "b = np.array([[1.1, 2.2, 3.0, 2.0, 1.0], [3.3, 4.4, 5.0, 3.7, 2.0]])\n",
    "print(\"b = \", b)\n",
    "print(\"b.shape = \", b.shape)\n",
    "# Use the `shape` method of Numpy arrays to print the shape of this matrix.\n",
    "# Use array slicing to print the first row of `b`, which represents the\n",
    "# lifecycle savings decisions of the first agent (i.e., the amount they\n",
    "# choose to save in each of their 5 periods of life).  Use array slicing\n",
    "# to print the second column of `b`, which is the saves of both agents\n",
    "# when they are in their second period of life.  Finally, use array\n",
    "# slicing to print the first two rows and the last three columns of `b`\n",
    "# (i.e., the savings of both agents from middle age onwards).\n",
    "print(\"First row of b = \", b[0, :])\n",
    "print(\"Second column of b = \", b[:, 1])\n",
    "print(\"First two rows and last three columns of b = \", b[0:2, 2:5])"
   ]
  },
  {
   "cell_type": "code",
   "execution_count": 28,
   "metadata": {},
   "outputs": [
    {
     "name": "stdout",
     "output_type": "stream",
     "text": [
      "B =  [[0.725 1.024]\n",
      " [1.407 2.09 ]]\n",
      "The diagonal elements of B have some meaning.\n",
      " The top left is the total savings of all type 1 agents (across cohorts).\n",
      " The bottom right is the total savings of all type 2 agents (across cohorts).\n",
      " The off-diagonal elements of B have no meaning since these are the \n",
      " sum of one types savings with another types weights.\n"
     ]
    }
   ],
   "source": [
    "# 2. Define `Omega` and compute the dot product of b and the transpose of Omega\n",
    "Omega = np.array([[0.05, 0.05, 0.08, 0.06, 0.2], [0.12, 0.16, 0.03, 0.2, 0.05]])\n",
    "B = np.dot(b, Omega.T)\n",
    "print(\"B = \", B)\n",
    "print(\"The diagonal elements of B have some meaning.\\n \" +\n",
    "      \"The top left is the total savings of all type 1 agents (across cohorts).\\n \" +\n",
    "      \"The bottom right is the total savings of all type 2 agents (across cohorts).\\n \" +\n",
    "      \"The off-diagonal elements of B have no meaning since these are the \\n \" +\n",
    "      \"sum of one types savings with another types weights.\")"
   ]
  },
  {
   "cell_type": "code",
   "execution_count": 18,
   "metadata": {},
   "outputs": [
    {
     "name": "stdout",
     "output_type": "stream",
     "text": [
      "Savings by cohort =  [0.451 0.814 0.39  0.86  0.3  ]\n"
     ]
    }
   ],
   "source": [
    "# 3. Multiply the matrix `b` by the matrix `Omega` element-wise (Hadamard product).  Use the `np.array.sum()` method on the resulting matrix to find the total savings of each cohort.\n",
    "C = b * Omega\n",
    "print(\"Savings by cohort = \", C.sum(axis=0))"
   ]
  },
  {
   "cell_type": "code",
   "execution_count": 19,
   "metadata": {},
   "outputs": [
    {
     "name": "stdout",
     "output_type": "stream",
     "text": [
      "Matrix of zeros like b =  [[0. 0. 0. 0. 0.]\n",
      " [0. 0. 0. 0. 0.]]\n"
     ]
    }
   ],
   "source": [
    "# 3. In one line, create a matrix of zeros that is the same size as `b`.\n",
    "b_zeros = np.zeros_like(b)\n",
    "print(\"Matrix of zeros like b = \", b_zeros)"
   ]
  },
  {
   "cell_type": "code",
   "execution_count": 25,
   "metadata": {},
   "outputs": [
    {
     "name": "stdout",
     "output_type": "stream",
     "text": [
      "Indices of elements of b that are greater than 2.0 =  [[0.  2.2 3.  0.  0. ]\n",
      " [3.3 4.4 5.  3.7 0. ]]\n",
      "(2, 5)\n"
     ]
    }
   ],
   "source": [
    "# 4. Use `np.where` to return the elements of `b` that are greater than 2.0 and zero elsewhere.\n",
    "b_gt2 = np.where(b > 2.0, b, b_zeros)\n",
    "print(\"Indices of elements of b that are greater than 2.0 = \", b_gt2)\n",
    "print(b_gt2.shape)"
   ]
  },
  {
   "cell_type": "markdown",
   "metadata": {},
   "source": []
  },
  {
   "cell_type": "code",
   "execution_count": 26,
   "metadata": {},
   "outputs": [
    {
     "name": "stdout",
     "output_type": "stream",
     "text": [
      "New b matrix with 3 types of agents =  [[1.1 2.2 3.  2.  1. ]\n",
      " [3.3 4.4 5.  3.7 2. ]\n",
      " [4.1 5.1 7.1 4.5 0.9]]\n"
     ]
    }
   ],
   "source": [
    "# 5. Now suppose a 3rd type of agent.\n",
    "# This agent has savings $b_3 = \\[4.1, 5.1, 7.1, 4.5, 0.9]$.\n",
    "# Use `np.vstack` to stack `b` on top of `b_3` to create a new matrix `b_new`.\n",
    "b_3 = np.array([4.1, 5.1, 7.1, 4.5, 0.9])\n",
    "b_new = np.vstack((b, b_3))\n",
    "print(\"New b matrix with 3 types of agents = \", b_new)"
   ]
  },
  {
   "cell_type": "markdown",
   "metadata": {},
   "source": [
    "## Pandas Chapter Exercises"
   ]
  },
  {
   "cell_type": "code",
   "execution_count": 111,
   "metadata": {},
   "outputs": [
    {
     "name": "stdout",
     "output_type": "stream",
     "text": [
      "   Year   IND    MYS    USA\n",
      "0  1990  2087   8179  36982\n",
      "1  2000  2753  13475  45886\n",
      "2  2010  4526  18574  49267\n",
      "3  2018  6806  24842  55335\n"
     ]
    }
   ],
   "source": [
    "# 1. Creat a dataframe from a dictionary\n",
    "gdppc_dict = {\n",
    "    \"Year\": [1990, 2000, 2010, 2018],\n",
    "    \"IND\": [2087, 2753, 4526, 6806],\n",
    "    \"MYS\": [8179, 13475, 18574, 24842],\n",
    "    \"USA\": [36982, 45886, 49267, 55335],\n",
    "}\n",
    "df = pd.DataFrame(gdppc_dict)\n",
    "print(df)"
   ]
  },
  {
   "cell_type": "code",
   "execution_count": 112,
   "metadata": {},
   "outputs": [
    {
     "name": "stdout",
     "output_type": "stream",
     "text": [
      "DataFrame head =     Year   IND    MYS    USA\n",
      "0  1990  2087   8179  36982\n",
      "1  2000  2753  13475  45886\n",
      "2  2010  4526  18574  49267\n",
      "DataFrame tail =     Year   IND    MYS    USA\n",
      "1  2000  2753  13475  45886\n",
      "2  2010  4526  18574  49267\n",
      "3  2018  6806  24842  55335\n",
      "DataFrame column names =  Index(['Year', 'IND', 'MYS', 'USA'], dtype='object')\n",
      "DataFrame descriptive statistics =                Year          IND           MYS           USA\n",
      "count     4.000000     4.000000      4.000000      4.000000\n",
      "mean   2004.500000  4043.000000  16267.500000  46867.500000\n",
      "std      12.151817  2110.094311   7119.547762   7662.519364\n",
      "min    1990.000000  2087.000000   8179.000000  36982.000000\n",
      "25%    1997.500000  2586.500000  12151.000000  43660.000000\n",
      "50%    2005.000000  3639.500000  16024.500000  47576.500000\n",
      "75%    2012.000000  5096.000000  20141.000000  50784.000000\n",
      "max    2018.000000  6806.000000  24842.000000  55335.000000\n"
     ]
    }
   ],
   "source": [
    "# 2. Inspect this data frame.  Print `df.head(3)`.  Print `df.tail(3)`.\n",
    "# Get a list of column names with the `keys` method.\n",
    "#Finally, use the  `describe` method to print descriptive statistics.\n",
    "print(\"DataFrame head = \", df.head(3))\n",
    "print(\"DataFrame tail = \", df.tail(3))\n",
    "print(\"DataFrame column names = \", df.keys())\n",
    "print(\"DataFrame descriptive statistics = \", df.describe())"
   ]
  },
  {
   "cell_type": "code",
   "execution_count": 113,
   "metadata": {},
   "outputs": [
    {
     "name": "stdout",
     "output_type": "stream",
     "text": [
      "DataFrame with year as index =         IND    MYS    USA\n",
      "Year                    \n",
      "1990  2087   8179  36982\n",
      "2000  2753  13475  45886\n",
      "2010  4526  18574  49267\n",
      "2018  6806  24842  55335\n"
     ]
    }
   ],
   "source": [
    "# 3. Pandas DataFrame use an index to keep track of rows.\n",
    "# Not the default index in `df` are integers for each row.\n",
    "# Let's change the index so the year is the index value. Print the updated DataFrame.\n",
    "df = df.set_index(\"Year\")\n",
    "print(\"DataFrame with year as index = \", df)"
   ]
  },
  {
   "cell_type": "code",
   "execution_count": 114,
   "metadata": {},
   "outputs": [
    {
     "data": {
      "text/html": [
       "<div>\n",
       "<style scoped>\n",
       "    .dataframe tbody tr th:only-of-type {\n",
       "        vertical-align: middle;\n",
       "    }\n",
       "\n",
       "    .dataframe tbody tr th {\n",
       "        vertical-align: top;\n",
       "    }\n",
       "\n",
       "    .dataframe thead th {\n",
       "        text-align: right;\n",
       "    }\n",
       "</style>\n",
       "<table border=\"1\" class=\"dataframe\">\n",
       "  <thead>\n",
       "    <tr style=\"text-align: right;\">\n",
       "      <th></th>\n",
       "      <th></th>\n",
       "      <th>GDP per capita</th>\n",
       "    </tr>\n",
       "    <tr>\n",
       "      <th>Year</th>\n",
       "      <th>Country</th>\n",
       "      <th></th>\n",
       "    </tr>\n",
       "  </thead>\n",
       "  <tbody>\n",
       "    <tr>\n",
       "      <th rowspan=\"3\" valign=\"top\">1990</th>\n",
       "      <th>IND</th>\n",
       "      <td>2087</td>\n",
       "    </tr>\n",
       "    <tr>\n",
       "      <th>MYS</th>\n",
       "      <td>8179</td>\n",
       "    </tr>\n",
       "    <tr>\n",
       "      <th>USA</th>\n",
       "      <td>36982</td>\n",
       "    </tr>\n",
       "    <tr>\n",
       "      <th rowspan=\"3\" valign=\"top\">2000</th>\n",
       "      <th>IND</th>\n",
       "      <td>2753</td>\n",
       "    </tr>\n",
       "    <tr>\n",
       "      <th>MYS</th>\n",
       "      <td>13475</td>\n",
       "    </tr>\n",
       "    <tr>\n",
       "      <th>USA</th>\n",
       "      <td>45886</td>\n",
       "    </tr>\n",
       "    <tr>\n",
       "      <th rowspan=\"3\" valign=\"top\">2010</th>\n",
       "      <th>IND</th>\n",
       "      <td>4526</td>\n",
       "    </tr>\n",
       "    <tr>\n",
       "      <th>MYS</th>\n",
       "      <td>18574</td>\n",
       "    </tr>\n",
       "    <tr>\n",
       "      <th>USA</th>\n",
       "      <td>49267</td>\n",
       "    </tr>\n",
       "    <tr>\n",
       "      <th rowspan=\"3\" valign=\"top\">2018</th>\n",
       "      <th>IND</th>\n",
       "      <td>6806</td>\n",
       "    </tr>\n",
       "    <tr>\n",
       "      <th>MYS</th>\n",
       "      <td>24842</td>\n",
       "    </tr>\n",
       "    <tr>\n",
       "      <th>USA</th>\n",
       "      <td>55335</td>\n",
       "    </tr>\n",
       "  </tbody>\n",
       "</table>\n",
       "</div>"
      ],
      "text/plain": [
       "              GDP per capita\n",
       "Year Country                \n",
       "1990 IND                2087\n",
       "     MYS                8179\n",
       "     USA               36982\n",
       "2000 IND                2753\n",
       "     MYS               13475\n",
       "     USA               45886\n",
       "2010 IND                4526\n",
       "     MYS               18574\n",
       "     USA               49267\n",
       "2018 IND                6806\n",
       "     MYS               24842\n",
       "     USA               55335"
      ]
     },
     "execution_count": 114,
     "metadata": {},
     "output_type": "execute_result"
    }
   ],
   "source": [
    "# 4. Let's reshape this into a long panel format with a `MultiIndex` for the columns.\n",
    "# The first level of the `MultiIndex` should be the year and the second level should be the country.\n",
    "# The values should be the GDP per capita.  To do this, use the pivottable. Print the DataFrame.\n",
    "df = pd.DataFrame(df.stack())\n",
    "# name the country index\n",
    "df = df.rename_axis(index=(\"Year\", \"Country\"))\n",
    "df.rename(columns={df.columns[0]:\"GDP per capita\"}, inplace=True)\n",
    "df"
   ]
  },
  {
   "cell_type": "code",
   "execution_count": 116,
   "metadata": {},
   "outputs": [
    {
     "name": "stdout",
     "output_type": "stream",
     "text": [
      "DataFrame with GDP growth =                GDP per capita  GDP pc Growth\n",
      "Year Country                               \n",
      "1990 IND                2087            NaN\n",
      "     MYS                8179            NaN\n",
      "     USA               36982            NaN\n",
      "2000 IND                2753       0.319118\n",
      "     MYS               13475       0.647512\n",
      "     USA               45886       0.240766\n",
      "2010 IND                4526       0.644025\n",
      "     MYS               18574       0.378404\n",
      "     USA               49267       0.073683\n",
      "2018 IND                6806       0.503756\n",
      "     MYS               24842       0.337461\n",
      "     USA               55335       0.123166\n"
     ]
    }
   ],
   "source": [
    "# 5. Create a new variable that is the GDP growth rate from the prior period measure.\n",
    "# Using `groupby` to find mean GDP growth rate for each country ove the sample.\n",
    "df[\"GDP pc Growth\"] = df[\"GDP per capita\"].groupby(\"Country\").pct_change()\n",
    "print(\"DataFrame with GDP growth = \", df)"
   ]
  },
  {
   "cell_type": "code",
   "execution_count": 120,
   "metadata": {},
   "outputs": [
    {
     "name": "stdout",
     "output_type": "stream",
     "text": [
      "|   Year | Country   |   GDP per capita |   GDP pc Growth |\n",
      "|-------:|:----------|-----------------:|----------------:|\n",
      "|   1990 | IND       |             2087 |     nan         |\n",
      "|   1990 | MYS       |             8179 |     nan         |\n",
      "|   1990 | USA       |            36982 |     nan         |\n",
      "|   2000 | IND       |             2753 |       0.319118  |\n",
      "|   2000 | MYS       |            13475 |       0.647512  |\n",
      "|   2000 | USA       |            45886 |       0.240766  |\n",
      "|   2010 | IND       |             4526 |       0.644025  |\n",
      "|   2010 | MYS       |            18574 |       0.378404  |\n",
      "|   2010 | USA       |            49267 |       0.0736826 |\n",
      "|   2018 | IND       |             6806 |       0.503756  |\n",
      "|   2018 | MYS       |            24842 |       0.337461  |\n",
      "|   2018 | USA       |            55335 |       0.123166  |\n"
     ]
    }
   ],
   "source": [
    "# 6. Print a DataFrame as a table (e.g. to tex or json or md)\n",
    "print(df.reset_index().to_markdown(index=False))"
   ]
  },
  {
   "cell_type": "code",
   "execution_count": 159,
   "metadata": {},
   "outputs": [
    {
     "name": "stdout",
     "output_type": "stream",
     "text": [
      "   LocationId      Location Iso3 Iso2  LocationTypeId  IndicatorId  \\\n",
      "0         710  South Africa  ZAF   ZA               4           47   \n",
      "1         710  South Africa  ZAF   ZA               4           47   \n",
      "2         710  South Africa  ZAF   ZA               4           47   \n",
      "3         710  South Africa  ZAF   ZA               4           47   \n",
      "4         710  South Africa  ZAF   ZA               4           47   \n",
      "\n",
      "                                 Indicator  \\\n",
      "0  Population by 1-year age groups and sex   \n",
      "1  Population by 1-year age groups and sex   \n",
      "2  Population by 1-year age groups and sex   \n",
      "3  Population by 1-year age groups and sex   \n",
      "4  Population by 1-year age groups and sex   \n",
      "\n",
      "                                IndicatorDisplayName  SourceId  \\\n",
      "0  Annual population by 1-year age groups and by sex        25   \n",
      "1  Annual population by 1-year age groups and by sex        25   \n",
      "2  Annual population by 1-year age groups and by sex        25   \n",
      "3  Annual population by 1-year age groups and by sex        25   \n",
      "4  Annual population by 1-year age groups and by sex        25   \n",
      "\n",
      "                       Source  ...  EstimateMethodId  EstimateMethod SexId  \\\n",
      "0  World Population Prospects  ...                 2   Interpolation     1   \n",
      "1  World Population Prospects  ...                 2   Interpolation     2   \n",
      "2  World Population Prospects  ...                 2   Interpolation     3   \n",
      "3  World Population Prospects  ...                 2   Interpolation     1   \n",
      "4  World Population Prospects  ...                 2   Interpolation     2   \n",
      "\n",
      "          Sex AgeId  AgeLabel  AgeStart  AgeEnd  AgeMid    Value  \n",
      "0        Male    42         0         0     1.0       1   609002  \n",
      "1      Female    42         0         0     1.0       1   587415  \n",
      "2  Both sexes    42         0         0     1.0       1  1196416  \n",
      "3        Male    89         1         1     1.0       1   590581  \n",
      "4      Female    89         1         1     1.0       1   569689  \n",
      "\n",
      "[5 rows x 32 columns]\n"
     ]
    }
   ],
   "source": [
    "# 7. Read in a csv file as a DataFrame.\n",
    "url = \"https://raw.githubusercontent.com/EAPD-DRB/OG-ZAF/main/ogzaf/data/demographic/un_zaf_pop.csv\"\n",
    "df = pd.read_csv(url, sep=\"|\",  header=1)\n",
    "print(df.head(n=5))"
   ]
  },
  {
   "cell_type": "code",
   "execution_count": 160,
   "metadata": {},
   "outputs": [
    {
     "name": "stdout",
     "output_type": "stream",
     "text": [
      "     AgeStart    Value\n",
      "608         0  1161080\n",
      "611         1  1185216\n",
      "614         2  1189382\n",
      "617         3  1156477\n",
      "620         4  1120503\n"
     ]
    }
   ],
   "source": [
    "# 8. Keep only the rows and columns that you need.\n",
    "zaf_pop = df.loc[(df.TimeLabel == 2021) & (df.SexId == 3), [\"AgeStart\", \"Value\"]]\n",
    "print(zaf_pop.head(n=5))"
   ]
  },
  {
   "cell_type": "code",
   "execution_count": 161,
   "metadata": {},
   "outputs": [
    {
     "name": "stdout",
     "output_type": "stream",
     "text": [
      "     AgeStart    Count   Density\n",
      "608         0  1161080  0.019549\n",
      "611         1  1185216  0.019956\n",
      "614         2  1189382  0.020026\n",
      "617         3  1156477  0.019472\n",
      "620         4  1120503  0.018866\n"
     ]
    }
   ],
   "source": [
    "# 9. Rename column and create a density variable\n",
    "zaf_pop.rename(columns={\"Value\": \"Count\"}, inplace=True)\n",
    "zaf_pop[\"Density\"] = zaf_pop.Count / zaf_pop.Count.sum()\n",
    "print(zaf_pop.head(n=5))\n"
   ]
  },
  {
   "cell_type": "code",
   "execution_count": 162,
   "metadata": {},
   "outputs": [
    {
     "data": {
      "text/plain": [
       "<Axes: title={'center': 'South Africa Population Density by Age'}, xlabel='Age', ylabel='Density'>"
      ]
     },
     "execution_count": 162,
     "metadata": {},
     "output_type": "execute_result"
    },
    {
     "data": {
      "image/png": "[encoded data removed]",
      "text/plain": [
       "<Figure size 640x480 with 1 Axes>"
      ]
     },
     "metadata": {},
     "output_type": "display_data"
    }
   ],
   "source": [
    "# 10. Use the `plot` method to plot the population density across age for South Africa.\n",
    "zaf_pop.plot(x=\"AgeStart\", y=\"Density\", title=\"South Africa Population Density by Age\", xlabel=\"Age\", ylabel=\"Density\")"
   ]
  },
  {
   "cell_type": "code",
   "execution_count": 163,
   "metadata": {},
   "outputs": [
    {
     "data": {
      "text/plain": [
       "<Axes: title={'center': 'South Africa Population Density by Age and Gender'}, xlabel='Age', ylabel='Density'>"
      ]
     },
     "execution_count": 163,
     "metadata": {},
     "output_type": "execute_result"
    },
    {
     "data": {
      "image/png": "[encoded data removed]",
      "text/plain": [
       "<Figure size 640x480 with 1 Axes>"
      ]
     },
     "metadata": {},
     "output_type": "display_data"
    }
   ],
   "source": [
    "# 11. Create a data from that has the population density of women and then merge that to `zaf_pop`. Plot the distributions across age overall and for women\n",
    "df = pd.read_csv(url, sep=\"|\",  header=1)\n",
    "zaf_female_pop = df.loc[(df.TimeLabel == 2021) & (df.SexId == 2), [\"AgeStart\", \"Value\"]]\n",
    "zaf_female_pop.rename(columns={\"Value\": \"Female Count\"}, inplace=True)\n",
    "zaf_female_pop[\"Female Density\"] = zaf_female_pop[\"Female Count\"] / zaf_female_pop[\"Female Count\"].sum()\n",
    "zaf_pop = zaf_pop.merge(zaf_female_pop, on=\"AgeStart\", how=\"inner\")\n",
    "zaf_pop.plot(x=\"AgeStart\", y=[\"Density\", \"Female Density\"], title=\"South Africa Population Density by Age and Gender\", xlabel=\"Age\", ylabel=\"Density\")"
   ]
  },
  {
   "cell_type": "code",
   "execution_count": 164,
   "metadata": {},
   "outputs": [],
   "source": [
    "# 12. Save your final DataFrame to disk as a csv file.\n",
    "zaf_pop.to_csv(\"zaf_pop.csv\", index=False)"
   ]
  },
  {
   "cell_type": "code",
   "execution_count": null,
   "metadata": {},
   "outputs": [],
   "source": []
  }
 ],
 "metadata": {
  "kernelspec": {
   "display_name": "jrc-env",
   "language": "python",
   "name": "python3"
  },
  "language_info": {
   "codemirror_mode": {
    "name": "ipython",
    "version": 3
   },
   "file_extension": ".py",
   "mimetype": "text/x-python",
   "name": "python",
   "nbconvert_exporter": "python",
   "pygments_lexer": "ipython3",
   "version": "3.11.5"
  },
  "orig_nbformat": 4
 },
 "nbformat": 4,
 "nbformat_minor": 2
}
