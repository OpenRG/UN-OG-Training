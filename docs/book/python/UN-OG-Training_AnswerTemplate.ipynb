{
 "cells": [
  {
   "cell_type": "markdown",
   "metadata": {},
   "source": [
    "# UN OG Training: Exercise Answer Template\n",
    "\n",
    "This Notebook is included in the UN OG Training repository as a template for the answers to the exercises. In order to use this Notebook without having Python installed on your local computer, you can simply click on the Google Colab button above.  This will open this notebook in [Google Colaboratory](https://colab.research.google.com), where you can execute cells as in any Jupyter Notebook ([basic instructions](https://jupyter-notebook.readthedocs.io/en/stable/examples/Notebook/Notebook%20Basics.html) or use of a Notebook) without needed any local python installation.  You will need a Google account to save this notebook to your Drive."
   ]
  },
  {
   "cell_type": "code",
   "execution_count": null,
   "metadata": {
    "vscode": {
     "languageId": "plaintext"
    }
   },
   "outputs": [],
   "source": [
    "# import some packages you'll use in the exercises\n",
    "import numpy as np\n",
    "import pandas as pd\n",
    "import scipy\n",
    "import matplotlib.pyplot as plt"
   ]
  },
  {
   "cell_type": "markdown",
   "metadata": {},
   "source": []
  }
 ],
 "metadata": {
  "language_info": {
   "name": "python"
  }
 },
 "nbformat": 4,
 "nbformat_minor": 2
}
